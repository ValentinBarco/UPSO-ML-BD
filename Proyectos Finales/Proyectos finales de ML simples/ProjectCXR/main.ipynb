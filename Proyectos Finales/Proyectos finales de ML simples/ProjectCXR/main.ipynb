{
 "cells": [
  {
   "cell_type": "markdown",
   "metadata": {},
   "source": [
    "# Detección de COVID-19 en imágenes de rayos X de tórax\n",
    "El objetivo de este proyecto es construir un modelo que identifique COVID-19, neumonía en imágenes de rayos X de tórax. El conjunto de datos está organizado en 3 carpetas (casos COVID-19, Normal, Neumonía) y contiene subcarpetas para cada categoría de imagen. Hay 606 imágenes de rayos X (JPEG). Datos de [Mendeley](https://data.mendeley.com/datasets/fvk7h5dg2p/1)."
   ]
  },
  {
   "cell_type": "code",
   "execution_count": null,
   "metadata": {},
   "outputs": [],
   "source": [
    "# Descarga y descomprimir\n",
    "dataroot = \"dataroot/\"\n",
    "!mkdir dataroot \n",
    "!wget -P dataroot https://md-datasets-cache-zipfiles-prod.s3.eu-west-1.amazonaws.com/fvk7h5dg2p-1.zip\n"
   ]
  },
  {
   "cell_type": "code",
   "execution_count": null,
   "metadata": {},
   "outputs": [],
   "source": [
    "# Unzip\n",
    "import zipfile\n",
    "with zipfile.ZipFile(dataroot+\"fvk7h5dg2p-1.zip\",\"r\") as zip_ref:\n",
    "    zip_ref.extractall(dataroot)"
   ]
  },
  {
   "cell_type": "code",
   "execution_count": null,
   "metadata": {},
   "outputs": [],
   "source": [
    "# Load and preview images\n",
    "import matplotlib.pyplot as plt\n",
    "import numpy as np\n",
    "import cv2\n",
    "\n",
    "img_covid     = cv2.imread(dataroot+'COVID-19 cases/1-s2.0-S0929664620300449-gr2_lrg-d.jpg',0)\n",
    "img_normal    = cv2.imread(dataroot+'Normal /IM-0011-0001-0001.jpeg',0)\n",
    "img_pneumonia = cv2.imread(dataroot+'Pneumonia/person1650_virus_2854.jpeg',0)\n",
    "\n",
    "plt.figure(figsize=(14,14))\n",
    "plt.subplot(1,3,1)\n",
    "plt.imshow(img_covid,cmap='gray')\n",
    "plt.subplot(1,3,2)\n",
    "plt.imshow(img_normal,cmap='gray')\n",
    "plt.subplot(1,3,3)\n",
    "plt.imshow(img_pneumonia,cmap='gray')"
   ]
  }
 ],
 "metadata": {
  "kernelspec": {
   "display_name": "Python 3",
   "language": "python",
   "name": "python3"
  },
  "language_info": {
   "codemirror_mode": {
    "name": "ipython",
    "version": 3
   },
   "file_extension": ".py",
   "mimetype": "text/x-python",
   "name": "python",
   "nbconvert_exporter": "python",
   "pygments_lexer": "ipython3",
   "version": "3.7.4"
  }
 },
 "nbformat": 4,
 "nbformat_minor": 2
}
