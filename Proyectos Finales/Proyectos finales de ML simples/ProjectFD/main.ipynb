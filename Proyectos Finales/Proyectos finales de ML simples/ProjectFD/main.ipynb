{
 "cells": [
  {
   "cell_type": "markdown",
   "metadata": {},
   "source": [
    "# Predecir retrasos en los vuelos \n",
    "El objetivo de este proyecto es construir un modelo capaz de predecir retrasos de vuelos en el mes de enero. Tómese un tiempo para comprender los datos, ¿qué aerolíneas tienen el mayor porcentaje de vuelos retrasados? ¿Qué aeropuertos tienen el mayor porcentaje de vuelos retrasados? ¿Existe alguna relación entre la distancia y el retraso? Más información sobre estos datos [aquí](https://www.kaggle.com/divyansh22/flight-delay-prediction)"
   ]
  },
  {
   "cell_type": "code",
   "execution_count": null,
   "metadata": {},
   "outputs": [],
   "source": [
    "import pandas as pd\n",
    "flights_jan_2019 = pd.read_csv(\"https://raw.githubusercontent.com/emmanueliarussi/DataScienceCapstone/master/3_MidtermProjects/ProjectFD/data/jan_2019_ontime.csv\")\n",
    "flights_jan_2019.head()"
   ]
  },
  {
   "cell_type": "code",
   "execution_count": null,
   "metadata": {},
   "outputs": [],
   "source": [
    "flights_jan_2020 = pd.read_csv(\"https://raw.githubusercontent.com/emmanueliarussi/DataScienceCapstone/master/3_MidtermProjects/ProjectFD/data/jan_2020_ontime.csv\")\n",
    "flights_jan_2020.head()"
   ]
  }
 ],
 "metadata": {
  "kernelspec": {
   "display_name": "Python 3",
   "language": "python",
   "name": "python3"
  },
  "language_info": {
   "codemirror_mode": {
    "name": "ipython",
    "version": 3
   },
   "file_extension": ".py",
   "mimetype": "text/x-python",
   "name": "python",
   "nbconvert_exporter": "python",
   "pygments_lexer": "ipython3",
   "version": "3.7.4"
  }
 },
 "nbformat": 4,
 "nbformat_minor": 2
}
