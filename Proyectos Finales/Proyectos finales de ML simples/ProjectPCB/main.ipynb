{
 "cells": [
  {
   "cell_type": "markdown",
   "metadata": {},
   "source": [
    "# Chatbot\n",
    "Un chatbot es un software inteligente que es capaz de comunicarse y realizar acciones similares a las de un humano. El objetivo de este proyecto es construir un modelo que prediga respuestas usando patrones y respuestas predefinidos. Se le proporciona un archivo llamado intents.json que contiene estos patrones. Los archivos de palabras y clases se proporcionan como ayuda adicional. Siéntase libre de hacer un bot más complejo extendiendo el archivo de intenciones. \n",
    "\n",
    "#### Possible chat with your bot\n",
    "<code>\n",
    "You: Hello, how are you? \n",
    "Bot: Hi there, how can I help?\n",
    "You: what can you do?\n",
    "Bot: I can guide you through Adverse drug reaction list, Blood pressure tracking, Hospitals and Pharmacies\n",
    "You: thanks\n",
    "Bot: My pleasure\n",
    "You: see ya. got to go!\n",
    "Bot: See you\n",
    "</code>"
   ]
  },
  {
   "cell_type": "code",
   "execution_count": null,
   "metadata": {},
   "outputs": [],
   "source": [
    "# Load pickle files\n",
    "import urllib.request\n",
    "import pickle\n",
    "\n",
    "classes = pickle.load(urllib.request.urlopen(\"https://raw.githubusercontent.com/emmanueliarussi/DataScienceCapstone/master/3_MidtermProjects/ProjectPCB/data/classes.pkl\"))\n",
    "words   = pickle.load(urllib.request.urlopen(\"https://raw.githubusercontent.com/emmanueliarussi/DataScienceCapstone/master/3_MidtermProjects/ProjectPCB/data/words.pkl\"))\n",
    "print(classes)\n",
    "print(words)"
   ]
  },
  {
   "cell_type": "code",
   "execution_count": null,
   "metadata": {},
   "outputs": [],
   "source": [
    "# Load json file with answer patterns\n",
    "import requests\n",
    "import json\n",
    "\n",
    "intents = json.loads(requests.get(\"https://raw.githubusercontent.com/emmanueliarussi/DataScienceCapstone/master/3_MidtermProjects/ProjectPCB/data/intents.json\").text)\n",
    "intents"
   ]
  },
  {
   "cell_type": "code",
   "execution_count": null,
   "metadata": {},
   "outputs": [],
   "source": []
  }
 ],
 "metadata": {
  "kernelspec": {
   "display_name": "Python 3",
   "language": "python",
   "name": "python3"
  },
  "language_info": {
   "codemirror_mode": {
    "name": "ipython",
    "version": 3
   },
   "file_extension": ".py",
   "mimetype": "text/x-python",
   "name": "python",
   "nbconvert_exporter": "python",
   "pygments_lexer": "ipython3",
   "version": "3.7.4"
  }
 },
 "nbformat": 4,
 "nbformat_minor": 2
}
