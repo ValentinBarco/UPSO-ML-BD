{
 "cells": [
  {
   "cell_type": "markdown",
   "metadata": {},
   "source": [
    "# Reseñas de vinos \n ",
    "El objetivo de este proyecto es hacer una regresión de los precios del vino de atributos como el país, la región y los puntos en [wineenthusiast](https://www.wineenthusiast.com/). Se le proporcionan casi 300K reseñas extraídas de WineEnthusiast durante junio y Noviembre de 2017. Piense en algunas preguntas interesantes que podría responder con estos datos: ¿qué vinos reciben una valoración más positiva? ¿Esta positividad se correlaciona con su precio? Más información sobre este conjunto de datos [aquí](https://www.kaggle.com/zynicide/wine-reviews). "
   ]
  },
  {
   "cell_type": "code",
   "execution_count": null,
   "metadata": {},
   "outputs": [],
   "source": [
    "import pandas as pd\n",
    "wine_revs_1 = pd.read_csv(\"https://raw.githubusercontent.com/emmanueliarussi/DataScienceCapstone/master/3_MidtermProjects/ProjectWNF/data/winemag-data_first150k.csv\")\n",
    "wine_revs_1.head()"
   ]
  },
  {
   "cell_type": "code",
   "execution_count": null,
   "metadata": {},
   "outputs": [],
   "source": [
    "wine_revs_2 = pd.read_csv(\"https://raw.githubusercontent.com/emmanueliarussi/DataScienceCapstone/master/3_MidtermProjects/ProjectWNF/data/winemag-data-second130k.csv\")\n",
    "wine_revs_2.head()"
   ]
  }
 ],
 "metadata": {
  "kernelspec": {
   "display_name": "Python 3",
   "language": "python",
   "name": "python3"
  },
  "language_info": {
   "codemirror_mode": {
    "name": "ipython",
    "version": 3
   },
   "file_extension": ".py",
   "mimetype": "text/x-python",
   "name": "python",
   "nbconvert_exporter": "python",
   "pygments_lexer": "ipython3",
   "version": "3.7.4"
  }
 },
 "nbformat": 4,
 "nbformat_minor": 2
}
