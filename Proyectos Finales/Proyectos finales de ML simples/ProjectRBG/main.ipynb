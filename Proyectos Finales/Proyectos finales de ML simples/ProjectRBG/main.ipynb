{
 "cells": [
  {
   "cell_type": "markdown",
   "metadata": {},
   "source": [
    "# Rainbow Guru\n",
    "El conjunto de datos contiene un archivo CSV que tiene 865 nombres de color con sus correspondientes valores RGB (rojo, verde y azul) del color. También tiene el valor hexadecimal del color. El objetivo de este proyecto es construir un modelo capaz de predecir el nombre del color a partir de su código hexadecimal / RGB. Fuente de [datos](https://en.wikipedia.org/wiki/Lists_of_colors)."
   ]
  },
  {
   "cell_type": "code",
   "execution_count": null,
   "metadata": {},
   "outputs": [],
   "source": [
    "import pandas as pd\n",
    "colors = pd.read_csv(\"https://raw.githubusercontent.com/emmanueliarussi/DataScienceCapstone/master/3_MidtermProjects/ProjectRBG/data/colors.csv\")\n",
    "colors.head()"
   ]
  },
  {
   "cell_type": "code",
   "execution_count": null,
   "metadata": {},
   "outputs": [],
   "source": []
  }
 ],
 "metadata": {
  "kernelspec": {
   "display_name": "Python 3",
   "language": "python",
   "name": "python3"
  },
  "language_info": {
   "codemirror_mode": {
    "name": "ipython",
    "version": 3
   },
   "file_extension": ".py",
   "mimetype": "text/x-python",
   "name": "python",
   "nbconvert_exporter": "python",
   "pygments_lexer": "ipython3",
   "version": "3.7.4"
  }
 },
 "nbformat": 4,
 "nbformat_minor": 2
}
