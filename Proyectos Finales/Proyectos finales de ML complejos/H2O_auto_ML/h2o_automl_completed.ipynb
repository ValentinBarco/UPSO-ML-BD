{
  "nbformat": 4,
  "nbformat_minor": 0,
  "metadata": {
    "kernelspec": {
      "display_name": "Python 3",
      "language": "python",
      "name": "python3"
    },
    "language_info": {
      "codemirror_mode": {
        "name": "ipython",
        "version": 3
      },
      "file_extension": ".py",
      "mimetype": "text/x-python",
      "name": "python",
      "nbconvert_exporter": "python",
      "pygments_lexer": "ipython3",
      "version": "3.6.9"
    },
    "colab": {
      "name": "h2o-automl-completed.ipynb",
      "provenance": [],
      "include_colab_link": true
    },
    "accelerator": "GPU"
  },
  "cells": [
    {
      "cell_type": "markdown",
      "metadata": {
        "id": "view-in-github",
        "colab_type": "text"
      },
      "source": [
        "<a href=\"https://colab.research.google.com/github/manlio99/Materia-de-aprendizaje/blob/master/7_FinalProjects/H2O_auto_ML/h2o_automl_completed.ipynb\" target=\"_parent\"><img src=\"https://colab.research.google.com/assets/colab-badge.svg\" alt=\"Open In Colab\"/></a>"
      ]
    },
    {
      "cell_type": "markdown",
      "metadata": {
        "id": "bBhlYV-6tK-I"
      },
      "source": [
        "<h2 align=\"center\">Automatic Machine Learning with H2O AutoML</h2>"
      ]
    },
    {
      "cell_type": "markdown",
      "metadata": {
        "id": "mYqvQkajcPTg"
      },
      "source": [
        "Esta notebook aun no ha sido optimizada, ni pulida."
      ]
    },
    {
      "cell_type": "markdown",
      "metadata": {
        "id": "LRjdSa4eZkmP"
      },
      "source": [
        "Tenemos que utilizar java 8, es uno de los requisitos de H2O, por lo cual, la instalamos y despues la indicamos como preferencia en colab."
      ]
    },
    {
      "cell_type": "code",
      "metadata": {
        "id": "2vOQheqO1uiN",
        "outputId": "00640e26-9e32-474d-a8de-9a476256fca6",
        "colab": {
          "base_uri": "https://localhost:8080/",
          "height": 1000
        }
      },
      "source": [
        "!apt-get install openjdk-8-jdk"
      ],
      "execution_count": 1,
      "outputs": [
        {
          "output_type": "stream",
          "text": [
            "Reading package lists... Done\n",
            "Building dependency tree       \n",
            "Reading state information... Done\n",
            "The following additional packages will be installed:\n",
            "  fonts-dejavu-core fonts-dejavu-extra libatk-wrapper-java\n",
            "  libatk-wrapper-java-jni libgail-common libgail18 libgtk2.0-0 libgtk2.0-bin\n",
            "  libgtk2.0-common libxxf86dga1 openjdk-8-jdk-headless openjdk-8-jre\n",
            "  openjdk-8-jre-headless x11-utils\n",
            "Suggested packages:\n",
            "  gvfs openjdk-8-demo openjdk-8-source visualvm icedtea-8-plugin libnss-mdns\n",
            "  fonts-ipafont-gothic fonts-ipafont-mincho fonts-wqy-microhei\n",
            "  fonts-wqy-zenhei fonts-indic mesa-utils\n",
            "The following NEW packages will be installed:\n",
            "  fonts-dejavu-core fonts-dejavu-extra libatk-wrapper-java\n",
            "  libatk-wrapper-java-jni libgail-common libgail18 libgtk2.0-0 libgtk2.0-bin\n",
            "  libgtk2.0-common libxxf86dga1 openjdk-8-jdk openjdk-8-jdk-headless\n",
            "  openjdk-8-jre openjdk-8-jre-headless x11-utils\n",
            "0 upgraded, 15 newly installed, 0 to remove and 21 not upgraded.\n",
            "Need to get 42.8 MB of archives.\n",
            "After this operation, 160 MB of additional disk space will be used.\n",
            "Get:1 http://archive.ubuntu.com/ubuntu bionic/main amd64 libxxf86dga1 amd64 2:1.1.4-1 [13.7 kB]\n",
            "Get:2 http://archive.ubuntu.com/ubuntu bionic/main amd64 fonts-dejavu-core all 2.37-1 [1,041 kB]\n",
            "Get:3 http://archive.ubuntu.com/ubuntu bionic/main amd64 fonts-dejavu-extra all 2.37-1 [1,953 kB]\n",
            "Get:4 http://archive.ubuntu.com/ubuntu bionic/main amd64 x11-utils amd64 7.7+3build1 [196 kB]\n",
            "Get:5 http://archive.ubuntu.com/ubuntu bionic/main amd64 libatk-wrapper-java all 0.33.3-20ubuntu0.1 [34.7 kB]\n",
            "Get:6 http://archive.ubuntu.com/ubuntu bionic/main amd64 libatk-wrapper-java-jni amd64 0.33.3-20ubuntu0.1 [28.3 kB]\n",
            "Get:7 http://archive.ubuntu.com/ubuntu bionic/main amd64 libgtk2.0-common all 2.24.32-1ubuntu1 [125 kB]\n",
            "Get:8 http://archive.ubuntu.com/ubuntu bionic/main amd64 libgtk2.0-0 amd64 2.24.32-1ubuntu1 [1,769 kB]\n",
            "Get:9 http://archive.ubuntu.com/ubuntu bionic/main amd64 libgail18 amd64 2.24.32-1ubuntu1 [14.2 kB]\n",
            "Get:10 http://archive.ubuntu.com/ubuntu bionic/main amd64 libgail-common amd64 2.24.32-1ubuntu1 [112 kB]\n",
            "Get:11 http://archive.ubuntu.com/ubuntu bionic/main amd64 libgtk2.0-bin amd64 2.24.32-1ubuntu1 [7,536 B]\n",
            "Get:12 http://archive.ubuntu.com/ubuntu bionic-updates/universe amd64 openjdk-8-jre-headless amd64 8u265-b01-0ubuntu2~18.04 [27.5 MB]\n",
            "Get:13 http://archive.ubuntu.com/ubuntu bionic-updates/universe amd64 openjdk-8-jre amd64 8u265-b01-0ubuntu2~18.04 [69.6 kB]\n",
            "Get:14 http://archive.ubuntu.com/ubuntu bionic-updates/universe amd64 openjdk-8-jdk-headless amd64 8u265-b01-0ubuntu2~18.04 [8,262 kB]\n",
            "Get:15 http://archive.ubuntu.com/ubuntu bionic-updates/universe amd64 openjdk-8-jdk amd64 8u265-b01-0ubuntu2~18.04 [1,610 kB]\n",
            "Fetched 42.8 MB in 3s (13.1 MB/s)\n",
            "Selecting previously unselected package libxxf86dga1:amd64.\n",
            "(Reading database ... 144611 files and directories currently installed.)\n",
            "Preparing to unpack .../00-libxxf86dga1_2%3a1.1.4-1_amd64.deb ...\n",
            "Unpacking libxxf86dga1:amd64 (2:1.1.4-1) ...\n",
            "Selecting previously unselected package fonts-dejavu-core.\n",
            "Preparing to unpack .../01-fonts-dejavu-core_2.37-1_all.deb ...\n",
            "Unpacking fonts-dejavu-core (2.37-1) ...\n",
            "Selecting previously unselected package fonts-dejavu-extra.\n",
            "Preparing to unpack .../02-fonts-dejavu-extra_2.37-1_all.deb ...\n",
            "Unpacking fonts-dejavu-extra (2.37-1) ...\n",
            "Selecting previously unselected package x11-utils.\n",
            "Preparing to unpack .../03-x11-utils_7.7+3build1_amd64.deb ...\n",
            "Unpacking x11-utils (7.7+3build1) ...\n",
            "Selecting previously unselected package libatk-wrapper-java.\n",
            "Preparing to unpack .../04-libatk-wrapper-java_0.33.3-20ubuntu0.1_all.deb ...\n",
            "Unpacking libatk-wrapper-java (0.33.3-20ubuntu0.1) ...\n",
            "Selecting previously unselected package libatk-wrapper-java-jni:amd64.\n",
            "Preparing to unpack .../05-libatk-wrapper-java-jni_0.33.3-20ubuntu0.1_amd64.deb ...\n",
            "Unpacking libatk-wrapper-java-jni:amd64 (0.33.3-20ubuntu0.1) ...\n",
            "Selecting previously unselected package libgtk2.0-common.\n",
            "Preparing to unpack .../06-libgtk2.0-common_2.24.32-1ubuntu1_all.deb ...\n",
            "Unpacking libgtk2.0-common (2.24.32-1ubuntu1) ...\n",
            "Selecting previously unselected package libgtk2.0-0:amd64.\n",
            "Preparing to unpack .../07-libgtk2.0-0_2.24.32-1ubuntu1_amd64.deb ...\n",
            "Unpacking libgtk2.0-0:amd64 (2.24.32-1ubuntu1) ...\n",
            "Selecting previously unselected package libgail18:amd64.\n",
            "Preparing to unpack .../08-libgail18_2.24.32-1ubuntu1_amd64.deb ...\n",
            "Unpacking libgail18:amd64 (2.24.32-1ubuntu1) ...\n",
            "Selecting previously unselected package libgail-common:amd64.\n",
            "Preparing to unpack .../09-libgail-common_2.24.32-1ubuntu1_amd64.deb ...\n",
            "Unpacking libgail-common:amd64 (2.24.32-1ubuntu1) ...\n",
            "Selecting previously unselected package libgtk2.0-bin.\n",
            "Preparing to unpack .../10-libgtk2.0-bin_2.24.32-1ubuntu1_amd64.deb ...\n",
            "Unpacking libgtk2.0-bin (2.24.32-1ubuntu1) ...\n",
            "Selecting previously unselected package openjdk-8-jre-headless:amd64.\n",
            "Preparing to unpack .../11-openjdk-8-jre-headless_8u265-b01-0ubuntu2~18.04_amd64.deb ...\n",
            "Unpacking openjdk-8-jre-headless:amd64 (8u265-b01-0ubuntu2~18.04) ...\n",
            "Selecting previously unselected package openjdk-8-jre:amd64.\n",
            "Preparing to unpack .../12-openjdk-8-jre_8u265-b01-0ubuntu2~18.04_amd64.deb ...\n",
            "Unpacking openjdk-8-jre:amd64 (8u265-b01-0ubuntu2~18.04) ...\n",
            "Selecting previously unselected package openjdk-8-jdk-headless:amd64.\n",
            "Preparing to unpack .../13-openjdk-8-jdk-headless_8u265-b01-0ubuntu2~18.04_amd64.deb ...\n",
            "Unpacking openjdk-8-jdk-headless:amd64 (8u265-b01-0ubuntu2~18.04) ...\n",
            "Selecting previously unselected package openjdk-8-jdk:amd64.\n",
            "Preparing to unpack .../14-openjdk-8-jdk_8u265-b01-0ubuntu2~18.04_amd64.deb ...\n",
            "Unpacking openjdk-8-jdk:amd64 (8u265-b01-0ubuntu2~18.04) ...\n",
            "Setting up libgtk2.0-common (2.24.32-1ubuntu1) ...\n",
            "Setting up fonts-dejavu-core (2.37-1) ...\n",
            "Setting up libxxf86dga1:amd64 (2:1.1.4-1) ...\n",
            "Setting up fonts-dejavu-extra (2.37-1) ...\n",
            "Setting up openjdk-8-jre-headless:amd64 (8u265-b01-0ubuntu2~18.04) ...\n",
            "update-alternatives: using /usr/lib/jvm/java-8-openjdk-amd64/jre/bin/orbd to provide /usr/bin/orbd (orbd) in auto mode\n",
            "update-alternatives: using /usr/lib/jvm/java-8-openjdk-amd64/jre/bin/servertool to provide /usr/bin/servertool (servertool) in auto mode\n",
            "update-alternatives: using /usr/lib/jvm/java-8-openjdk-amd64/jre/bin/tnameserv to provide /usr/bin/tnameserv (tnameserv) in auto mode\n",
            "Setting up libgtk2.0-0:amd64 (2.24.32-1ubuntu1) ...\n",
            "Setting up libgail18:amd64 (2.24.32-1ubuntu1) ...\n",
            "Setting up openjdk-8-jdk-headless:amd64 (8u265-b01-0ubuntu2~18.04) ...\n",
            "update-alternatives: using /usr/lib/jvm/java-8-openjdk-amd64/bin/idlj to provide /usr/bin/idlj (idlj) in auto mode\n",
            "update-alternatives: using /usr/lib/jvm/java-8-openjdk-amd64/bin/wsimport to provide /usr/bin/wsimport (wsimport) in auto mode\n",
            "update-alternatives: using /usr/lib/jvm/java-8-openjdk-amd64/bin/jsadebugd to provide /usr/bin/jsadebugd (jsadebugd) in auto mode\n",
            "update-alternatives: using /usr/lib/jvm/java-8-openjdk-amd64/bin/native2ascii to provide /usr/bin/native2ascii (native2ascii) in auto mode\n",
            "update-alternatives: using /usr/lib/jvm/java-8-openjdk-amd64/bin/javah to provide /usr/bin/javah (javah) in auto mode\n",
            "update-alternatives: using /usr/lib/jvm/java-8-openjdk-amd64/bin/clhsdb to provide /usr/bin/clhsdb (clhsdb) in auto mode\n",
            "update-alternatives: using /usr/lib/jvm/java-8-openjdk-amd64/bin/jhat to provide /usr/bin/jhat (jhat) in auto mode\n",
            "update-alternatives: using /usr/lib/jvm/java-8-openjdk-amd64/bin/extcheck to provide /usr/bin/extcheck (extcheck) in auto mode\n",
            "update-alternatives: using /usr/lib/jvm/java-8-openjdk-amd64/bin/hsdb to provide /usr/bin/hsdb (hsdb) in auto mode\n",
            "update-alternatives: using /usr/lib/jvm/java-8-openjdk-amd64/bin/schemagen to provide /usr/bin/schemagen (schemagen) in auto mode\n",
            "update-alternatives: using /usr/lib/jvm/java-8-openjdk-amd64/bin/xjc to provide /usr/bin/xjc (xjc) in auto mode\n",
            "update-alternatives: using /usr/lib/jvm/java-8-openjdk-amd64/bin/wsgen to provide /usr/bin/wsgen (wsgen) in auto mode\n",
            "Setting up x11-utils (7.7+3build1) ...\n",
            "Setting up libgail-common:amd64 (2.24.32-1ubuntu1) ...\n",
            "Setting up libatk-wrapper-java (0.33.3-20ubuntu0.1) ...\n",
            "Setting up libgtk2.0-bin (2.24.32-1ubuntu1) ...\n",
            "Setting up libatk-wrapper-java-jni:amd64 (0.33.3-20ubuntu0.1) ...\n",
            "Setting up openjdk-8-jre:amd64 (8u265-b01-0ubuntu2~18.04) ...\n",
            "update-alternatives: using /usr/lib/jvm/java-8-openjdk-amd64/jre/bin/policytool to provide /usr/bin/policytool (policytool) in auto mode\n",
            "Setting up openjdk-8-jdk:amd64 (8u265-b01-0ubuntu2~18.04) ...\n",
            "update-alternatives: using /usr/lib/jvm/java-8-openjdk-amd64/bin/appletviewer to provide /usr/bin/appletviewer (appletviewer) in auto mode\n",
            "update-alternatives: using /usr/lib/jvm/java-8-openjdk-amd64/bin/jconsole to provide /usr/bin/jconsole (jconsole) in auto mode\n",
            "Processing triggers for man-db (2.8.3-2ubuntu0.1) ...\n",
            "Processing triggers for hicolor-icon-theme (0.17-2) ...\n",
            "Processing triggers for fontconfig (2.12.6-0ubuntu2) ...\n",
            "Processing triggers for mime-support (3.60ubuntu1) ...\n",
            "Processing triggers for libc-bin (2.27-3ubuntu1.2) ...\n",
            "/sbin/ldconfig.real: /usr/local/lib/python3.6/dist-packages/ideep4py/lib/libmkldnn.so.0 is not a symbolic link\n",
            "\n"
          ],
          "name": "stdout"
        }
      ]
    },
    {
      "cell_type": "markdown",
      "metadata": {
        "id": "YpdFB4SIZ4ts"
      },
      "source": [
        "Ahora la preferncia es java 11"
      ]
    },
    {
      "cell_type": "code",
      "metadata": {
        "id": "ue19UiQu1w5J",
        "outputId": "d8dbb336-228f-4b4c-aaec-a6d49e2314f6",
        "colab": {
          "base_uri": "https://localhost:8080/",
          "height": 69
        }
      },
      "source": [
        "!java -version"
      ],
      "execution_count": 2,
      "outputs": [
        {
          "output_type": "stream",
          "text": [
            "openjdk version \"11.0.8\" 2020-07-14\n",
            "OpenJDK Runtime Environment (build 11.0.8+10-post-Ubuntu-0ubuntu118.04.1)\n",
            "OpenJDK 64-Bit Server VM (build 11.0.8+10-post-Ubuntu-0ubuntu118.04.1, mixed mode)\n"
          ],
          "name": "stdout"
        }
      ]
    },
    {
      "cell_type": "markdown",
      "metadata": {
        "id": "RbLtbm692DVs"
      },
      "source": [
        "This command displays Java version.\n",
        "\n",
        "Make sure it displays openjdk version 1.8.*\n",
        "\n",
        "If it displays otherwise, (such as openjdk version 10.*) H2O might display an error like this:\n",
        "\n",
        "<i>H2OServerError: Server process terminated with error code 1</i>\n",
        "\n",
        "To fix the issue, try this command to change Java version.\n",
        "\n",
        "```!update-alternatives --config java```"
      ]
    },
    {
      "cell_type": "code",
      "metadata": {
        "id": "Q1F92wXq2E1N",
        "outputId": "c54a997a-5d64-4e82-b20f-a560ce1b09fb",
        "colab": {
          "base_uri": "https://localhost:8080/",
          "height": 54
        }
      },
      "source": [
        "!sudo update-alternatives --set java /usr/lib/jvm/jdk1.8.0_version/bin/java\n",
        "#!update-alternatives --config java"
      ],
      "execution_count": 3,
      "outputs": [
        {
          "output_type": "stream",
          "text": [
            "update-alternatives: error: alternative /usr/lib/jvm/jdk1.8.0_version/bin/java for java not registered; not setting\n"
          ],
          "name": "stdout"
        }
      ]
    },
    {
      "cell_type": "code",
      "metadata": {
        "id": "lBaMkjij2LUo",
        "outputId": "426d6868-c01e-4246-be13-00a8be13610d",
        "colab": {
          "base_uri": "https://localhost:8080/",
          "height": 69
        }
      },
      "source": [
        "!java -version"
      ],
      "execution_count": 4,
      "outputs": [
        {
          "output_type": "stream",
          "text": [
            "openjdk version \"11.0.8\" 2020-07-14\n",
            "OpenJDK Runtime Environment (build 11.0.8+10-post-Ubuntu-0ubuntu118.04.1)\n",
            "OpenJDK 64-Bit Server VM (build 11.0.8+10-post-Ubuntu-0ubuntu118.04.1, mixed mode)\n"
          ],
          "name": "stdout"
        }
      ]
    },
    {
      "cell_type": "markdown",
      "metadata": {
        "id": "WD-C5mXtaI7r"
      },
      "source": [
        "Tambien usa una version vieja de pandas."
      ]
    },
    {
      "cell_type": "code",
      "metadata": {
        "id": "drPeXkPd5bTC",
        "outputId": "d2e4ea2e-442c-4474-98c3-2600eca554e2",
        "colab": {
          "base_uri": "https://localhost:8080/",
          "height": 454
        }
      },
      "source": [
        "#!pip install pandas==0.19.2"
      ],
      "execution_count": 6,
      "outputs": [
        {
          "output_type": "stream",
          "text": [
            "Collecting pandas==0.19.2\n",
            "\u001b[?25l  Downloading https://files.pythonhosted.org/packages/f1/33/b455d0af521b76b1982eac1ed1c30c9e67f9885f54c3349aef0b0c547d85/pandas-0.19.2-cp36-cp36m-manylinux1_x86_64.whl (18.9MB)\n",
            "\u001b[K     |████████████████████████████████| 18.9MB 161kB/s \n",
            "\u001b[?25hRequirement already satisfied: numpy>=1.7.0 in /usr/local/lib/python3.6/dist-packages (from pandas==0.19.2) (1.18.5)\n",
            "Requirement already satisfied: python-dateutil>=2 in /usr/local/lib/python3.6/dist-packages (from pandas==0.19.2) (2.8.1)\n",
            "Requirement already satisfied: pytz>=2011k in /usr/local/lib/python3.6/dist-packages (from pandas==0.19.2) (2018.9)\n",
            "Requirement already satisfied: six>=1.5 in /usr/local/lib/python3.6/dist-packages (from python-dateutil>=2->pandas==0.19.2) (1.15.0)\n",
            "\u001b[31mERROR: xarray 0.15.1 has requirement pandas>=0.25, but you'll have pandas 0.19.2 which is incompatible.\u001b[0m\n",
            "\u001b[31mERROR: seaborn 0.11.0 has requirement pandas>=0.23, but you'll have pandas 0.19.2 which is incompatible.\u001b[0m\n",
            "\u001b[31mERROR: plotnine 0.6.0 has requirement pandas>=0.25.0, but you'll have pandas 0.19.2 which is incompatible.\u001b[0m\n",
            "\u001b[31mERROR: pandas-datareader 0.9.0 has requirement pandas>=0.23, but you'll have pandas 0.19.2 which is incompatible.\u001b[0m\n",
            "\u001b[31mERROR: mizani 0.6.0 has requirement pandas>=0.25.0, but you'll have pandas 0.19.2 which is incompatible.\u001b[0m\n",
            "\u001b[31mERROR: google-colab 1.0.0 has requirement pandas~=1.1.0; python_version >= \"3.0\", but you'll have pandas 0.19.2 which is incompatible.\u001b[0m\n",
            "\u001b[31mERROR: fbprophet 0.7.1 has requirement pandas>=1.0.4, but you'll have pandas 0.19.2 which is incompatible.\u001b[0m\n",
            "Installing collected packages: pandas\n",
            "  Found existing installation: pandas 1.1.3\n",
            "    Uninstalling pandas-1.1.3:\n",
            "      Successfully uninstalled pandas-1.1.3\n",
            "Successfully installed pandas-0.19.2\n"
          ],
          "name": "stdout"
        },
        {
          "output_type": "display_data",
          "data": {
            "application/vnd.colab-display-data+json": {
              "pip_warning": {
                "packages": [
                  "pandas"
                ]
              }
            }
          },
          "metadata": {
            "tags": []
          }
        }
      ]
    },
    {
      "cell_type": "code",
      "metadata": {
        "id": "VKMJK0yKaNS6"
      },
      "source": [
        "Instalamos h2o"
      ],
      "execution_count": null,
      "outputs": []
    },
    {
      "cell_type": "code",
      "metadata": {
        "id": "iFeJqzMb0n7s",
        "outputId": "8c5d75c0-ae7f-4888-dd03-b4e49df633b7",
        "colab": {
          "base_uri": "https://localhost:8080/",
          "height": 367
        }
      },
      "source": [
        "!pip install H2O"
      ],
      "execution_count": 5,
      "outputs": [
        {
          "output_type": "stream",
          "text": [
            "Collecting H2O\n",
            "\u001b[?25l  Downloading https://files.pythonhosted.org/packages/bb/55/494a42e7509d0874aa444ae4cad0bc7439c936b40e563550fbfabb540275/h2o-3.30.1.3.tar.gz (129.4MB)\n",
            "\u001b[K     |████████████████████████████████| 129.4MB 97kB/s \n",
            "\u001b[?25hRequirement already satisfied: requests in /usr/local/lib/python3.6/dist-packages (from H2O) (2.23.0)\n",
            "Requirement already satisfied: tabulate in /usr/local/lib/python3.6/dist-packages (from H2O) (0.8.7)\n",
            "Requirement already satisfied: future in /usr/local/lib/python3.6/dist-packages (from H2O) (0.16.0)\n",
            "Collecting colorama>=0.3.8\n",
            "  Downloading https://files.pythonhosted.org/packages/44/98/5b86278fbbf250d239ae0ecb724f8572af1c91f4a11edf4d36a206189440/colorama-0.4.4-py2.py3-none-any.whl\n",
            "Requirement already satisfied: certifi>=2017.4.17 in /usr/local/lib/python3.6/dist-packages (from requests->H2O) (2020.6.20)\n",
            "Requirement already satisfied: idna<3,>=2.5 in /usr/local/lib/python3.6/dist-packages (from requests->H2O) (2.10)\n",
            "Requirement already satisfied: chardet<4,>=3.0.2 in /usr/local/lib/python3.6/dist-packages (from requests->H2O) (3.0.4)\n",
            "Requirement already satisfied: urllib3!=1.25.0,!=1.25.1,<1.26,>=1.21.1 in /usr/local/lib/python3.6/dist-packages (from requests->H2O) (1.24.3)\n",
            "Building wheels for collected packages: H2O\n",
            "  Building wheel for H2O (setup.py) ... \u001b[?25l\u001b[?25hdone\n",
            "  Created wheel for H2O: filename=h2o-3.30.1.3-py2.py3-none-any.whl size=129446676 sha256=c2d6e00bf09856661c62c2aaa38943c1195a64fff0b2b4e511621ff97608c69c\n",
            "  Stored in directory: /root/.cache/pip/wheels/3d/e6/07/53ce9be9cb61b33a79cb3ed1fc39f2dae84f6ee6fe1e373e5e\n",
            "Successfully built H2O\n",
            "Installing collected packages: colorama, H2O\n",
            "Successfully installed H2O-3.30.1.3 colorama-0.4.4\n"
          ],
          "name": "stdout"
        }
      ]
    },
    {
      "cell_type": "markdown",
      "metadata": {
        "id": "d-c7lrhaaP8g"
      },
      "source": [
        "Iniciamos el servidor.\n",
        "Prestar atencion a la cantidad de memoria usada, pues se puede modificar."
      ]
    },
    {
      "cell_type": "code",
      "metadata": {
        "id": "q3xDd17H2Ruo",
        "outputId": "4f070ce2-cbbb-4a5d-fa77-6d6b91c2f42b",
        "colab": {
          "base_uri": "https://localhost:8080/",
          "height": 555
        }
      },
      "source": [
        "import h2o\n",
        "h2o.init()\n",
        "#memoria limitada a 2gb y 1 hr de entrenamiento"
      ],
      "execution_count": 6,
      "outputs": [
        {
          "output_type": "stream",
          "text": [
            "Checking whether there is an H2O instance running at http://localhost:54321 ..... not found.\n",
            "Attempting to start a local H2O server...\n",
            "  Java Version: openjdk version \"11.0.8\" 2020-07-14; OpenJDK Runtime Environment (build 11.0.8+10-post-Ubuntu-0ubuntu118.04.1); OpenJDK 64-Bit Server VM (build 11.0.8+10-post-Ubuntu-0ubuntu118.04.1, mixed mode)\n",
            "  Starting server from /usr/local/lib/python3.6/dist-packages/h2o/backend/bin/h2o.jar\n",
            "  Ice root: /tmp/tmpdhhoyun_\n",
            "  JVM stdout: /tmp/tmpdhhoyun_/h2o_unknownUser_started_from_python.out\n",
            "  JVM stderr: /tmp/tmpdhhoyun_/h2o_unknownUser_started_from_python.err\n",
            "  Server is running at http://127.0.0.1:54321\n",
            "Connecting to H2O server at http://127.0.0.1:54321 ... successful.\n"
          ],
          "name": "stdout"
        },
        {
          "output_type": "display_data",
          "data": {
            "text/html": [
              "<div style=\"overflow:auto\"><table style=\"width:50%\"><tr><td>H2O_cluster_uptime:</td>\n",
              "<td>02 secs</td></tr>\n",
              "<tr><td>H2O_cluster_timezone:</td>\n",
              "<td>Etc/UTC</td></tr>\n",
              "<tr><td>H2O_data_parsing_timezone:</td>\n",
              "<td>UTC</td></tr>\n",
              "<tr><td>H2O_cluster_version:</td>\n",
              "<td>3.30.1.3</td></tr>\n",
              "<tr><td>H2O_cluster_version_age:</td>\n",
              "<td>29 days </td></tr>\n",
              "<tr><td>H2O_cluster_name:</td>\n",
              "<td>H2O_from_python_unknownUser_lm7hq3</td></tr>\n",
              "<tr><td>H2O_cluster_total_nodes:</td>\n",
              "<td>1</td></tr>\n",
              "<tr><td>H2O_cluster_free_memory:</td>\n",
              "<td>3.180 Gb</td></tr>\n",
              "<tr><td>H2O_cluster_total_cores:</td>\n",
              "<td>2</td></tr>\n",
              "<tr><td>H2O_cluster_allowed_cores:</td>\n",
              "<td>2</td></tr>\n",
              "<tr><td>H2O_cluster_status:</td>\n",
              "<td>accepting new members, healthy</td></tr>\n",
              "<tr><td>H2O_connection_url:</td>\n",
              "<td>http://127.0.0.1:54321</td></tr>\n",
              "<tr><td>H2O_connection_proxy:</td>\n",
              "<td>{\"http\": null, \"https\": null}</td></tr>\n",
              "<tr><td>H2O_internal_security:</td>\n",
              "<td>False</td></tr>\n",
              "<tr><td>H2O_API_Extensions:</td>\n",
              "<td>Amazon S3, XGBoost, Algos, AutoML, Core V3, TargetEncoder, Core V4</td></tr>\n",
              "<tr><td>Python_version:</td>\n",
              "<td>3.6.9 final</td></tr></table></div>"
            ],
            "text/plain": [
              "--------------------------  ------------------------------------------------------------------\n",
              "H2O_cluster_uptime:         02 secs\n",
              "H2O_cluster_timezone:       Etc/UTC\n",
              "H2O_data_parsing_timezone:  UTC\n",
              "H2O_cluster_version:        3.30.1.3\n",
              "H2O_cluster_version_age:    29 days\n",
              "H2O_cluster_name:           H2O_from_python_unknownUser_lm7hq3\n",
              "H2O_cluster_total_nodes:    1\n",
              "H2O_cluster_free_memory:    3.180 Gb\n",
              "H2O_cluster_total_cores:    2\n",
              "H2O_cluster_allowed_cores:  2\n",
              "H2O_cluster_status:         accepting new members, healthy\n",
              "H2O_connection_url:         http://127.0.0.1:54321\n",
              "H2O_connection_proxy:       {\"http\": null, \"https\": null}\n",
              "H2O_internal_security:      False\n",
              "H2O_API_Extensions:         Amazon S3, XGBoost, Algos, AutoML, Core V3, TargetEncoder, Core V4\n",
              "Python_version:             3.6.9 final\n",
              "--------------------------  ------------------------------------------------------------------"
            ]
          },
          "metadata": {
            "tags": []
          }
        }
      ]
    },
    {
      "cell_type": "markdown",
      "metadata": {
        "id": "wKbqui0rtK-L"
      },
      "source": [
        "### Task 2: Importing Packages"
      ]
    },
    {
      "cell_type": "code",
      "metadata": {
        "id": "_zbgHlSftK-O"
      },
      "source": [
        "import pandas as pd\n",
        "pd.options.display.max_rows = 999\n",
        "import numpy as np\n",
        "import matplotlib.pyplot as plt"
      ],
      "execution_count": 7,
      "outputs": []
    },
    {
      "cell_type": "code",
      "metadata": {
        "id": "32RbCuQQvdo8",
        "outputId": "f02e0066-87ca-4311-bdb1-cf2d3f76ec46",
        "colab": {
          "resources": {
            "http://localhost:8080/nbextensions/google.colab/files.js": {
              "data": "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",
              "ok": true,
              "headers": [
                [
                  "content-type",
                  "application/javascript"
                ]
              ],
              "status": 200,
              "status_text": "OK"
            }
          },
          "base_uri": "https://localhost:8080/",
          "height": 93
        }
      },
      "source": [
        "from google.colab import files\n",
        "\n",
        "uploaded = files.upload()\n",
        "#Subir data\n"
      ],
      "execution_count": 8,
      "outputs": [
        {
          "output_type": "display_data",
          "data": {
            "text/html": [
              "\n",
              "     <input type=\"file\" id=\"files-20d00b01-1eea-4245-b79b-47779ba0d805\" name=\"files[]\" multiple disabled\n",
              "        style=\"border:none\" />\n",
              "     <output id=\"result-20d00b01-1eea-4245-b79b-47779ba0d805\">\n",
              "      Upload widget is only available when the cell has been executed in the\n",
              "      current browser session. Please rerun this cell to enable.\n",
              "      </output>\n",
              "      <script src=\"/nbextensions/google.colab/files.js\"></script> "
            ],
            "text/plain": [
              "<IPython.core.display.HTML object>"
            ]
          },
          "metadata": {
            "tags": []
          }
        },
        {
          "output_type": "stream",
          "text": [
            "Saving bank_term_deposit_marketing_analysis.xlsx to bank_term_deposit_marketing_analysis.xlsx\n"
          ],
          "name": "stdout"
        }
      ]
    },
    {
      "cell_type": "markdown",
      "metadata": {
        "id": "DmouEfiytK-f"
      },
      "source": [
        "### Task 3: Loading and Exploring the Data"
      ]
    },
    {
      "cell_type": "code",
      "metadata": {
        "id": "Bqd1hJPWamCe"
      },
      "source": [
        "Abrimos los datos y unificamos."
      ],
      "execution_count": null,
      "outputs": []
    },
    {
      "cell_type": "code",
      "metadata": {
        "id": "4z9piIW6tK-i"
      },
      "source": [
        "xls = pd.ExcelFile('/content/bank_term_deposit_marketing_analysis.xlsx')"
      ],
      "execution_count": 9,
      "outputs": []
    },
    {
      "cell_type": "code",
      "metadata": {
        "id": "JHZXg_L5tK-q",
        "outputId": "057307f9-ac38-488e-cc8d-d807237878c3",
        "colab": {
          "base_uri": "https://localhost:8080/",
          "height": 243
        }
      },
      "source": [
        "xls.sheet_names\n",
        "#hojas de excel"
      ],
      "execution_count": 10,
      "outputs": [
        {
          "output_type": "execute_result",
          "data": {
            "text/plain": [
              "['PROCEDURE',\n",
              " 'DATA DESCRIPTION',\n",
              " 'Step 1 - Collect Information',\n",
              " 'CLIENT_INFO',\n",
              " 'LOAN_HISTORY',\n",
              " 'MARKETING HISTORY',\n",
              " 'SUBSCRIPTION HISTORY',\n",
              " 'Step 2 - Merge Information',\n",
              " 'CLIENT_MERGE',\n",
              " 'Step 3 - Marketing Analysis',\n",
              " 'DAILY RANGE',\n",
              " 'JOB ANALYSIS',\n",
              " 'Sheet3']"
            ]
          },
          "metadata": {
            "tags": []
          },
          "execution_count": 10
        }
      ]
    },
    {
      "cell_type": "code",
      "metadata": {
        "id": "XC-DG5lCtK-z"
      },
      "source": [
        "#cargamos cada hoja de excel como un dataframe separado\n",
        "client_info = pd.read_excel(xls, 'CLIENT_INFO')\n",
        "loan_history = pd.read_excel(xls, 'LOAN_HISTORY')\n",
        "marketing_history = pd.read_excel(xls, 'MARKETING HISTORY')\n",
        "subscription_history = pd.read_excel(xls, 'SUBSCRIPTION HISTORY')"
      ],
      "execution_count": 11,
      "outputs": []
    },
    {
      "cell_type": "code",
      "metadata": {
        "id": "_mWFPkVltK-7",
        "outputId": "fddd5e68-4281-44f9-f9e6-607b7b9216d2",
        "colab": {
          "base_uri": "https://localhost:8080/",
          "height": 206
        }
      },
      "source": [
        "client_info.head()\n",
        "#verificamos que esten bien cargados"
      ],
      "execution_count": 12,
      "outputs": [
        {
          "output_type": "execute_result",
          "data": {
            "text/html": [
              "<div>\n",
              "<style scoped>\n",
              "    .dataframe tbody tr th:only-of-type {\n",
              "        vertical-align: middle;\n",
              "    }\n",
              "\n",
              "    .dataframe tbody tr th {\n",
              "        vertical-align: top;\n",
              "    }\n",
              "\n",
              "    .dataframe thead th {\n",
              "        text-align: right;\n",
              "    }\n",
              "</style>\n",
              "<table border=\"1\" class=\"dataframe\">\n",
              "  <thead>\n",
              "    <tr style=\"text-align: right;\">\n",
              "      <th></th>\n",
              "      <th>ID</th>\n",
              "      <th>AGE</th>\n",
              "      <th>JOB</th>\n",
              "      <th>MARITAL</th>\n",
              "      <th>EDUCATION</th>\n",
              "    </tr>\n",
              "  </thead>\n",
              "  <tbody>\n",
              "    <tr>\n",
              "      <th>0</th>\n",
              "      <td>2836</td>\n",
              "      <td>58</td>\n",
              "      <td>management</td>\n",
              "      <td>married</td>\n",
              "      <td>tertiary</td>\n",
              "    </tr>\n",
              "    <tr>\n",
              "      <th>1</th>\n",
              "      <td>2837</td>\n",
              "      <td>44</td>\n",
              "      <td>technician</td>\n",
              "      <td>single</td>\n",
              "      <td>secondary</td>\n",
              "    </tr>\n",
              "    <tr>\n",
              "      <th>2</th>\n",
              "      <td>2838</td>\n",
              "      <td>33</td>\n",
              "      <td>entrepreneur</td>\n",
              "      <td>married</td>\n",
              "      <td>secondary</td>\n",
              "    </tr>\n",
              "    <tr>\n",
              "      <th>3</th>\n",
              "      <td>2839</td>\n",
              "      <td>47</td>\n",
              "      <td>blue-collar</td>\n",
              "      <td>married</td>\n",
              "      <td>unknown</td>\n",
              "    </tr>\n",
              "    <tr>\n",
              "      <th>4</th>\n",
              "      <td>2840</td>\n",
              "      <td>33</td>\n",
              "      <td>unknown</td>\n",
              "      <td>single</td>\n",
              "      <td>unknown</td>\n",
              "    </tr>\n",
              "  </tbody>\n",
              "</table>\n",
              "</div>"
            ],
            "text/plain": [
              "     ID  AGE           JOB  MARITAL  EDUCATION\n",
              "0  2836   58    management  married   tertiary\n",
              "1  2837   44    technician   single  secondary\n",
              "2  2838   33  entrepreneur  married  secondary\n",
              "3  2839   47   blue-collar  married    unknown\n",
              "4  2840   33       unknown   single    unknown"
            ]
          },
          "metadata": {
            "tags": []
          },
          "execution_count": 12
        }
      ]
    },
    {
      "cell_type": "code",
      "metadata": {
        "id": "0O2ZTtl5tK_C",
        "outputId": "b32a784c-507a-4575-ee71-7c452e9d4a8c",
        "colab": {
          "base_uri": "https://localhost:8080/",
          "height": 206
        }
      },
      "source": [
        "loan_history.head()"
      ],
      "execution_count": 13,
      "outputs": [
        {
          "output_type": "execute_result",
          "data": {
            "text/html": [
              "<div>\n",
              "<style scoped>\n",
              "    .dataframe tbody tr th:only-of-type {\n",
              "        vertical-align: middle;\n",
              "    }\n",
              "\n",
              "    .dataframe tbody tr th {\n",
              "        vertical-align: top;\n",
              "    }\n",
              "\n",
              "    .dataframe thead th {\n",
              "        text-align: right;\n",
              "    }\n",
              "</style>\n",
              "<table border=\"1\" class=\"dataframe\">\n",
              "  <thead>\n",
              "    <tr style=\"text-align: right;\">\n",
              "      <th></th>\n",
              "      <th>ID</th>\n",
              "      <th>DEFAULT</th>\n",
              "      <th>BALANCE</th>\n",
              "      <th>HOUSING</th>\n",
              "      <th>LOAN</th>\n",
              "    </tr>\n",
              "  </thead>\n",
              "  <tbody>\n",
              "    <tr>\n",
              "      <th>0</th>\n",
              "      <td>2836</td>\n",
              "      <td>no</td>\n",
              "      <td>2143</td>\n",
              "      <td>yes</td>\n",
              "      <td>no</td>\n",
              "    </tr>\n",
              "    <tr>\n",
              "      <th>1</th>\n",
              "      <td>2837</td>\n",
              "      <td>no</td>\n",
              "      <td>29</td>\n",
              "      <td>yes</td>\n",
              "      <td>no</td>\n",
              "    </tr>\n",
              "    <tr>\n",
              "      <th>2</th>\n",
              "      <td>2838</td>\n",
              "      <td>no</td>\n",
              "      <td>2</td>\n",
              "      <td>yes</td>\n",
              "      <td>yes</td>\n",
              "    </tr>\n",
              "    <tr>\n",
              "      <th>3</th>\n",
              "      <td>2839</td>\n",
              "      <td>no</td>\n",
              "      <td>1506</td>\n",
              "      <td>yes</td>\n",
              "      <td>no</td>\n",
              "    </tr>\n",
              "    <tr>\n",
              "      <th>4</th>\n",
              "      <td>2840</td>\n",
              "      <td>no</td>\n",
              "      <td>1</td>\n",
              "      <td>no</td>\n",
              "      <td>no</td>\n",
              "    </tr>\n",
              "  </tbody>\n",
              "</table>\n",
              "</div>"
            ],
            "text/plain": [
              "     ID DEFAULT  BALANCE HOUSING LOAN\n",
              "0  2836      no     2143     yes   no\n",
              "1  2837      no       29     yes   no\n",
              "2  2838      no        2     yes  yes\n",
              "3  2839      no     1506     yes   no\n",
              "4  2840      no        1      no   no"
            ]
          },
          "metadata": {
            "tags": []
          },
          "execution_count": 13
        }
      ]
    },
    {
      "cell_type": "code",
      "metadata": {
        "id": "3a14DcYutK_M",
        "outputId": "7cc423e0-d08a-4699-f4c0-02cf84bfb9ff",
        "colab": {
          "base_uri": "https://localhost:8080/",
          "height": 206
        }
      },
      "source": [
        "marketing_history.head()"
      ],
      "execution_count": 14,
      "outputs": [
        {
          "output_type": "execute_result",
          "data": {
            "text/html": [
              "<div>\n",
              "<style scoped>\n",
              "    .dataframe tbody tr th:only-of-type {\n",
              "        vertical-align: middle;\n",
              "    }\n",
              "\n",
              "    .dataframe tbody tr th {\n",
              "        vertical-align: top;\n",
              "    }\n",
              "\n",
              "    .dataframe thead th {\n",
              "        text-align: right;\n",
              "    }\n",
              "</style>\n",
              "<table border=\"1\" class=\"dataframe\">\n",
              "  <thead>\n",
              "    <tr style=\"text-align: right;\">\n",
              "      <th></th>\n",
              "      <th>ID</th>\n",
              "      <th>CONTACT</th>\n",
              "      <th>DAY</th>\n",
              "      <th>MONTH</th>\n",
              "      <th>DURATION</th>\n",
              "      <th>CAMPAIGN</th>\n",
              "      <th>PDAYS</th>\n",
              "      <th>PREVIOUS</th>\n",
              "      <th>POUTCOME</th>\n",
              "    </tr>\n",
              "  </thead>\n",
              "  <tbody>\n",
              "    <tr>\n",
              "      <th>0</th>\n",
              "      <td>2836</td>\n",
              "      <td>unknown</td>\n",
              "      <td>5</td>\n",
              "      <td>may</td>\n",
              "      <td>261</td>\n",
              "      <td>1</td>\n",
              "      <td>-1</td>\n",
              "      <td>0</td>\n",
              "      <td>unknown</td>\n",
              "    </tr>\n",
              "    <tr>\n",
              "      <th>1</th>\n",
              "      <td>2837</td>\n",
              "      <td>unknown</td>\n",
              "      <td>5</td>\n",
              "      <td>may</td>\n",
              "      <td>151</td>\n",
              "      <td>1</td>\n",
              "      <td>-1</td>\n",
              "      <td>0</td>\n",
              "      <td>unknown</td>\n",
              "    </tr>\n",
              "    <tr>\n",
              "      <th>2</th>\n",
              "      <td>2838</td>\n",
              "      <td>unknown</td>\n",
              "      <td>5</td>\n",
              "      <td>may</td>\n",
              "      <td>76</td>\n",
              "      <td>1</td>\n",
              "      <td>-1</td>\n",
              "      <td>0</td>\n",
              "      <td>unknown</td>\n",
              "    </tr>\n",
              "    <tr>\n",
              "      <th>3</th>\n",
              "      <td>2839</td>\n",
              "      <td>unknown</td>\n",
              "      <td>5</td>\n",
              "      <td>may</td>\n",
              "      <td>92</td>\n",
              "      <td>1</td>\n",
              "      <td>-1</td>\n",
              "      <td>0</td>\n",
              "      <td>unknown</td>\n",
              "    </tr>\n",
              "    <tr>\n",
              "      <th>4</th>\n",
              "      <td>2840</td>\n",
              "      <td>unknown</td>\n",
              "      <td>5</td>\n",
              "      <td>may</td>\n",
              "      <td>198</td>\n",
              "      <td>1</td>\n",
              "      <td>-1</td>\n",
              "      <td>0</td>\n",
              "      <td>unknown</td>\n",
              "    </tr>\n",
              "  </tbody>\n",
              "</table>\n",
              "</div>"
            ],
            "text/plain": [
              "     ID  CONTACT  DAY MONTH  DURATION  CAMPAIGN  PDAYS  PREVIOUS POUTCOME\n",
              "0  2836  unknown    5   may       261         1     -1         0  unknown\n",
              "1  2837  unknown    5   may       151         1     -1         0  unknown\n",
              "2  2838  unknown    5   may        76         1     -1         0  unknown\n",
              "3  2839  unknown    5   may        92         1     -1         0  unknown\n",
              "4  2840  unknown    5   may       198         1     -1         0  unknown"
            ]
          },
          "metadata": {
            "tags": []
          },
          "execution_count": 14
        }
      ]
    },
    {
      "cell_type": "code",
      "metadata": {
        "id": "mP0GbnVitK_S",
        "outputId": "2c6d1f6e-1d6e-48d5-af8a-9bf1fea9febc",
        "colab": {
          "base_uri": "https://localhost:8080/",
          "height": 206
        }
      },
      "source": [
        "subscription_history.head()"
      ],
      "execution_count": 15,
      "outputs": [
        {
          "output_type": "execute_result",
          "data": {
            "text/html": [
              "<div>\n",
              "<style scoped>\n",
              "    .dataframe tbody tr th:only-of-type {\n",
              "        vertical-align: middle;\n",
              "    }\n",
              "\n",
              "    .dataframe tbody tr th {\n",
              "        vertical-align: top;\n",
              "    }\n",
              "\n",
              "    .dataframe thead th {\n",
              "        text-align: right;\n",
              "    }\n",
              "</style>\n",
              "<table border=\"1\" class=\"dataframe\">\n",
              "  <thead>\n",
              "    <tr style=\"text-align: right;\">\n",
              "      <th></th>\n",
              "      <th>ID</th>\n",
              "      <th>TERM_DEPOSIT</th>\n",
              "    </tr>\n",
              "  </thead>\n",
              "  <tbody>\n",
              "    <tr>\n",
              "      <th>0</th>\n",
              "      <td>2836</td>\n",
              "      <td>no</td>\n",
              "    </tr>\n",
              "    <tr>\n",
              "      <th>1</th>\n",
              "      <td>2837</td>\n",
              "      <td>no</td>\n",
              "    </tr>\n",
              "    <tr>\n",
              "      <th>2</th>\n",
              "      <td>2838</td>\n",
              "      <td>no</td>\n",
              "    </tr>\n",
              "    <tr>\n",
              "      <th>3</th>\n",
              "      <td>2839</td>\n",
              "      <td>no</td>\n",
              "    </tr>\n",
              "    <tr>\n",
              "      <th>4</th>\n",
              "      <td>2840</td>\n",
              "      <td>no</td>\n",
              "    </tr>\n",
              "  </tbody>\n",
              "</table>\n",
              "</div>"
            ],
            "text/plain": [
              "     ID TERM_DEPOSIT\n",
              "0  2836           no\n",
              "1  2837           no\n",
              "2  2838           no\n",
              "3  2839           no\n",
              "4  2840           no"
            ]
          },
          "metadata": {
            "tags": []
          },
          "execution_count": 15
        }
      ]
    },
    {
      "cell_type": "code",
      "metadata": {
        "id": "J2nR-oh0tK_a",
        "outputId": "da975d29-23f7-4f8d-9e6e-0ccf61dbd214",
        "colab": {
          "base_uri": "https://localhost:8080/",
          "height": 226
        }
      },
      "source": [
        "df = pd.merge(client_info, loan_history, on=['ID'])\n",
        "df = pd.merge(df, marketing_history, on=['ID'])\n",
        "df = pd.merge(df, subscription_history, on=['ID'])\n",
        "df.head()\n",
        "#unimos todos los dataframes en uno solo"
      ],
      "execution_count": 16,
      "outputs": [
        {
          "output_type": "execute_result",
          "data": {
            "text/html": [
              "<div>\n",
              "<style scoped>\n",
              "    .dataframe tbody tr th:only-of-type {\n",
              "        vertical-align: middle;\n",
              "    }\n",
              "\n",
              "    .dataframe tbody tr th {\n",
              "        vertical-align: top;\n",
              "    }\n",
              "\n",
              "    .dataframe thead th {\n",
              "        text-align: right;\n",
              "    }\n",
              "</style>\n",
              "<table border=\"1\" class=\"dataframe\">\n",
              "  <thead>\n",
              "    <tr style=\"text-align: right;\">\n",
              "      <th></th>\n",
              "      <th>ID</th>\n",
              "      <th>AGE</th>\n",
              "      <th>JOB</th>\n",
              "      <th>MARITAL</th>\n",
              "      <th>EDUCATION</th>\n",
              "      <th>DEFAULT</th>\n",
              "      <th>BALANCE</th>\n",
              "      <th>HOUSING</th>\n",
              "      <th>LOAN</th>\n",
              "      <th>CONTACT</th>\n",
              "      <th>DAY</th>\n",
              "      <th>MONTH</th>\n",
              "      <th>DURATION</th>\n",
              "      <th>CAMPAIGN</th>\n",
              "      <th>PDAYS</th>\n",
              "      <th>PREVIOUS</th>\n",
              "      <th>POUTCOME</th>\n",
              "      <th>TERM_DEPOSIT</th>\n",
              "    </tr>\n",
              "  </thead>\n",
              "  <tbody>\n",
              "    <tr>\n",
              "      <th>0</th>\n",
              "      <td>2836</td>\n",
              "      <td>58</td>\n",
              "      <td>management</td>\n",
              "      <td>married</td>\n",
              "      <td>tertiary</td>\n",
              "      <td>no</td>\n",
              "      <td>2143</td>\n",
              "      <td>yes</td>\n",
              "      <td>no</td>\n",
              "      <td>unknown</td>\n",
              "      <td>5</td>\n",
              "      <td>may</td>\n",
              "      <td>261</td>\n",
              "      <td>1</td>\n",
              "      <td>-1</td>\n",
              "      <td>0</td>\n",
              "      <td>unknown</td>\n",
              "      <td>no</td>\n",
              "    </tr>\n",
              "    <tr>\n",
              "      <th>1</th>\n",
              "      <td>2837</td>\n",
              "      <td>44</td>\n",
              "      <td>technician</td>\n",
              "      <td>single</td>\n",
              "      <td>secondary</td>\n",
              "      <td>no</td>\n",
              "      <td>29</td>\n",
              "      <td>yes</td>\n",
              "      <td>no</td>\n",
              "      <td>unknown</td>\n",
              "      <td>5</td>\n",
              "      <td>may</td>\n",
              "      <td>151</td>\n",
              "      <td>1</td>\n",
              "      <td>-1</td>\n",
              "      <td>0</td>\n",
              "      <td>unknown</td>\n",
              "      <td>no</td>\n",
              "    </tr>\n",
              "    <tr>\n",
              "      <th>2</th>\n",
              "      <td>2838</td>\n",
              "      <td>33</td>\n",
              "      <td>entrepreneur</td>\n",
              "      <td>married</td>\n",
              "      <td>secondary</td>\n",
              "      <td>no</td>\n",
              "      <td>2</td>\n",
              "      <td>yes</td>\n",
              "      <td>yes</td>\n",
              "      <td>unknown</td>\n",
              "      <td>5</td>\n",
              "      <td>may</td>\n",
              "      <td>76</td>\n",
              "      <td>1</td>\n",
              "      <td>-1</td>\n",
              "      <td>0</td>\n",
              "      <td>unknown</td>\n",
              "      <td>no</td>\n",
              "    </tr>\n",
              "    <tr>\n",
              "      <th>3</th>\n",
              "      <td>2839</td>\n",
              "      <td>47</td>\n",
              "      <td>blue-collar</td>\n",
              "      <td>married</td>\n",
              "      <td>unknown</td>\n",
              "      <td>no</td>\n",
              "      <td>1506</td>\n",
              "      <td>yes</td>\n",
              "      <td>no</td>\n",
              "      <td>unknown</td>\n",
              "      <td>5</td>\n",
              "      <td>may</td>\n",
              "      <td>92</td>\n",
              "      <td>1</td>\n",
              "      <td>-1</td>\n",
              "      <td>0</td>\n",
              "      <td>unknown</td>\n",
              "      <td>no</td>\n",
              "    </tr>\n",
              "    <tr>\n",
              "      <th>4</th>\n",
              "      <td>2840</td>\n",
              "      <td>33</td>\n",
              "      <td>unknown</td>\n",
              "      <td>single</td>\n",
              "      <td>unknown</td>\n",
              "      <td>no</td>\n",
              "      <td>1</td>\n",
              "      <td>no</td>\n",
              "      <td>no</td>\n",
              "      <td>unknown</td>\n",
              "      <td>5</td>\n",
              "      <td>may</td>\n",
              "      <td>198</td>\n",
              "      <td>1</td>\n",
              "      <td>-1</td>\n",
              "      <td>0</td>\n",
              "      <td>unknown</td>\n",
              "      <td>no</td>\n",
              "    </tr>\n",
              "  </tbody>\n",
              "</table>\n",
              "</div>"
            ],
            "text/plain": [
              "     ID  AGE           JOB  MARITAL  ... PDAYS PREVIOUS  POUTCOME TERM_DEPOSIT\n",
              "0  2836   58    management  married  ...    -1        0   unknown           no\n",
              "1  2837   44    technician   single  ...    -1        0   unknown           no\n",
              "2  2838   33  entrepreneur  married  ...    -1        0   unknown           no\n",
              "3  2839   47   blue-collar  married  ...    -1        0   unknown           no\n",
              "4  2840   33       unknown   single  ...    -1        0   unknown           no\n",
              "\n",
              "[5 rows x 18 columns]"
            ]
          },
          "metadata": {
            "tags": []
          },
          "execution_count": 16
        }
      ]
    },
    {
      "cell_type": "code",
      "metadata": {
        "id": "4C1WPAhstK_i"
      },
      "source": [
        "df = df.drop(['ID'], axis=1)\n",
        "#eliminamos la columna id porque no aporta informacion"
      ],
      "execution_count": 17,
      "outputs": []
    },
    {
      "cell_type": "markdown",
      "metadata": {
        "id": "L2pQ0FeUtK_q"
      },
      "source": [
        " "
      ]
    },
    {
      "cell_type": "markdown",
      "metadata": {
        "id": "9XxEhyKftK_s"
      },
      "source": [
        "### Task 4: Data Prep & Start H2O"
      ]
    },
    {
      "cell_type": "code",
      "metadata": {
        "id": "HqQqth9TygEs",
        "outputId": "f3d0c4bd-23b7-4351-d121-4bf6becd6319",
        "colab": {
          "base_uri": "https://localhost:8080/",
          "height": 34
        }
      },
      "source": [
        "import multiprocessing\n",
        "multiprocessing.cpu_count()"
      ],
      "execution_count": 18,
      "outputs": [
        {
          "output_type": "execute_result",
          "data": {
            "text/plain": [
              "2"
            ]
          },
          "metadata": {
            "tags": []
          },
          "execution_count": 18
        }
      ]
    },
    {
      "cell_type": "code",
      "metadata": {
        "id": "vUawSluKyhMB",
        "outputId": "5783df27-8399-412e-c2e0-e35b3dd05b74",
        "colab": {
          "base_uri": "https://localhost:8080/",
          "height": 54
        }
      },
      "source": [
        "import psutil\n",
        "psutil.virtual_memory()"
      ],
      "execution_count": 19,
      "outputs": [
        {
          "output_type": "execute_result",
          "data": {
            "text/plain": [
              "svmem(total=13653557248, available=12506042368, percent=8.4, used=937095168, free=7532343296, active=1215623168, inactive=4506918912, buffers=102551552, cached=5081567232, shared=978944, slab=262098944)"
            ]
          },
          "metadata": {
            "tags": []
          },
          "execution_count": 19
        }
      ]
    },
    {
      "cell_type": "code",
      "metadata": {
        "id": "v8i7sWnYtK_t"
      },
      "source": [
        "#import h2o\n",
        "from h2o.automl import H2OAutoML"
      ],
      "execution_count": 20,
      "outputs": []
    },
    {
      "cell_type": "markdown",
      "metadata": {
        "id": "hS_FRlFla871"
      },
      "source": [
        "Solo cargar los datos una vez ya han sido limpiados, para optimizar el proceso."
      ]
    },
    {
      "cell_type": "code",
      "metadata": {
        "id": "Cy_a2GXFtK_z",
        "outputId": "1df49add-557c-4ca7-d963-c26a3ddfeb71",
        "colab": {
          "base_uri": "https://localhost:8080/",
          "height": 34
        }
      },
      "source": [
        "h2o_df = h2o.H2OFrame(df)"
      ],
      "execution_count": 21,
      "outputs": [
        {
          "output_type": "stream",
          "text": [
            "Parse progress: |█████████████████████████████████████████████████████████| 100%\n"
          ],
          "name": "stdout"
        }
      ]
    },
    {
      "cell_type": "code",
      "metadata": {
        "id": "W4HqxJROtK_7",
        "outputId": "d2cfca66-f1cd-4634-e523-732ec5bce4eb",
        "colab": {
          "base_uri": "https://localhost:8080/",
          "height": 493
        }
      },
      "source": [
        "h2o_df.describe()"
      ],
      "execution_count": 22,
      "outputs": [
        {
          "output_type": "stream",
          "text": [
            "Rows:45211\n",
            "Cols:17\n",
            "\n",
            "\n"
          ],
          "name": "stdout"
        },
        {
          "output_type": "display_data",
          "data": {
            "text/html": [
              "<table>\n",
              "<thead>\n",
              "<tr><th>       </th><th>AGE               </th><th>JOB         </th><th>MARITAL  </th><th>EDUCATION  </th><th>DEFAULT  </th><th>BALANCE           </th><th>HOUSING  </th><th>LOAN  </th><th>CONTACT  </th><th>DAY               </th><th>MONTH  </th><th>DURATION          </th><th>CAMPAIGN          </th><th>PDAYS             </th><th>PREVIOUS          </th><th>POUTCOME  </th><th>TERM_DEPOSIT  </th></tr>\n",
              "</thead>\n",
              "<tbody>\n",
              "<tr><td>type   </td><td>int               </td><td>enum        </td><td>enum     </td><td>enum       </td><td>enum     </td><td>int               </td><td>enum     </td><td>enum  </td><td>enum     </td><td>int               </td><td>enum   </td><td>int               </td><td>int               </td><td>int               </td><td>int               </td><td>enum      </td><td>enum          </td></tr>\n",
              "<tr><td>mins   </td><td>18.0              </td><td>            </td><td>         </td><td>           </td><td>         </td><td>-8019.0           </td><td>         </td><td>      </td><td>         </td><td>1.0               </td><td>       </td><td>0.0               </td><td>1.0               </td><td>-1.0              </td><td>0.0               </td><td>          </td><td>              </td></tr>\n",
              "<tr><td>mean   </td><td>40.93621021432807 </td><td>            </td><td>         </td><td>           </td><td>         </td><td>1362.2720576850802</td><td>         </td><td>      </td><td>         </td><td>15.806418791886923</td><td>       </td><td>258.16307978146915</td><td>2.7638406582468997</td><td>40.19782796222158 </td><td>0.5803233726305561</td><td>          </td><td>              </td></tr>\n",
              "<tr><td>maxs   </td><td>95.0              </td><td>            </td><td>         </td><td>           </td><td>         </td><td>102127.0          </td><td>         </td><td>      </td><td>         </td><td>31.0              </td><td>       </td><td>4918.0            </td><td>63.0              </td><td>871.0             </td><td>275.0             </td><td>          </td><td>              </td></tr>\n",
              "<tr><td>sigma  </td><td>10.618762040975398</td><td>            </td><td>         </td><td>           </td><td>         </td><td>3044.7658291685216</td><td>         </td><td>      </td><td>         </td><td>8.32247615304459  </td><td>       </td><td>257.52781226517124</td><td>3.0980208832791805</td><td>100.12874599059822</td><td>2.303441044931215 </td><td>          </td><td>              </td></tr>\n",
              "<tr><td>zeros  </td><td>0                 </td><td>            </td><td>         </td><td>           </td><td>         </td><td>3514              </td><td>         </td><td>      </td><td>         </td><td>0                 </td><td>       </td><td>3                 </td><td>0                 </td><td>0                 </td><td>36954             </td><td>          </td><td>              </td></tr>\n",
              "<tr><td>missing</td><td>0                 </td><td>0           </td><td>0        </td><td>0          </td><td>0        </td><td>0                 </td><td>0        </td><td>0     </td><td>0        </td><td>0                 </td><td>0      </td><td>0                 </td><td>0                 </td><td>0                 </td><td>0                 </td><td>0         </td><td>0             </td></tr>\n",
              "<tr><td>0      </td><td>58.0              </td><td>management  </td><td>married  </td><td>tertiary   </td><td>no       </td><td>2143.0            </td><td>yes      </td><td>no    </td><td>unknown  </td><td>5.0               </td><td>may    </td><td>261.0             </td><td>1.0               </td><td>-1.0              </td><td>0.0               </td><td>unknown   </td><td>no            </td></tr>\n",
              "<tr><td>1      </td><td>44.0              </td><td>technician  </td><td>single   </td><td>secondary  </td><td>no       </td><td>29.0              </td><td>yes      </td><td>no    </td><td>unknown  </td><td>5.0               </td><td>may    </td><td>151.0             </td><td>1.0               </td><td>-1.0              </td><td>0.0               </td><td>unknown   </td><td>no            </td></tr>\n",
              "<tr><td>2      </td><td>33.0              </td><td>entrepreneur</td><td>married  </td><td>secondary  </td><td>no       </td><td>2.0               </td><td>yes      </td><td>yes   </td><td>unknown  </td><td>5.0               </td><td>may    </td><td>76.0              </td><td>1.0               </td><td>-1.0              </td><td>0.0               </td><td>unknown   </td><td>no            </td></tr>\n",
              "<tr><td>3      </td><td>47.0              </td><td>blue-collar </td><td>married  </td><td>unknown    </td><td>no       </td><td>1506.0            </td><td>yes      </td><td>no    </td><td>unknown  </td><td>5.0               </td><td>may    </td><td>92.0              </td><td>1.0               </td><td>-1.0              </td><td>0.0               </td><td>unknown   </td><td>no            </td></tr>\n",
              "<tr><td>4      </td><td>33.0              </td><td>unknown     </td><td>single   </td><td>unknown    </td><td>no       </td><td>1.0               </td><td>no       </td><td>no    </td><td>unknown  </td><td>5.0               </td><td>may    </td><td>198.0             </td><td>1.0               </td><td>-1.0              </td><td>0.0               </td><td>unknown   </td><td>no            </td></tr>\n",
              "<tr><td>5      </td><td>35.0              </td><td>management  </td><td>married  </td><td>tertiary   </td><td>no       </td><td>231.0             </td><td>yes      </td><td>no    </td><td>unknown  </td><td>5.0               </td><td>may    </td><td>139.0             </td><td>1.0               </td><td>-1.0              </td><td>0.0               </td><td>unknown   </td><td>no            </td></tr>\n",
              "<tr><td>6      </td><td>28.0              </td><td>management  </td><td>single   </td><td>tertiary   </td><td>no       </td><td>447.0             </td><td>yes      </td><td>yes   </td><td>unknown  </td><td>5.0               </td><td>may    </td><td>217.0             </td><td>1.0               </td><td>-1.0              </td><td>0.0               </td><td>unknown   </td><td>no            </td></tr>\n",
              "<tr><td>7      </td><td>42.0              </td><td>entrepreneur</td><td>divorced </td><td>tertiary   </td><td>yes      </td><td>2.0               </td><td>yes      </td><td>no    </td><td>unknown  </td><td>5.0               </td><td>may    </td><td>380.0             </td><td>1.0               </td><td>-1.0              </td><td>0.0               </td><td>unknown   </td><td>no            </td></tr>\n",
              "<tr><td>8      </td><td>58.0              </td><td>retired     </td><td>married  </td><td>primary    </td><td>no       </td><td>121.0             </td><td>yes      </td><td>no    </td><td>unknown  </td><td>5.0               </td><td>may    </td><td>50.0              </td><td>1.0               </td><td>-1.0              </td><td>0.0               </td><td>unknown   </td><td>no            </td></tr>\n",
              "<tr><td>9      </td><td>43.0              </td><td>technician  </td><td>single   </td><td>secondary  </td><td>no       </td><td>593.0             </td><td>yes      </td><td>no    </td><td>unknown  </td><td>5.0               </td><td>may    </td><td>55.0              </td><td>1.0               </td><td>-1.0              </td><td>0.0               </td><td>unknown   </td><td>no            </td></tr>\n",
              "</tbody>\n",
              "</table>"
            ]
          },
          "metadata": {
            "tags": []
          }
        }
      ]
    },
    {
      "cell_type": "code",
      "metadata": {
        "id": "7LV6a2BwtLAB"
      },
      "source": [
        "train, test = h2o_df.split_frame(ratios=[.75])\n",
        "\n",
        "# Identify predictors and response\n",
        "x = train.columns\n",
        "y = \"TERM_DEPOSIT\"\n",
        "x.remove(y)"
      ],
      "execution_count": 23,
      "outputs": []
    },
    {
      "cell_type": "markdown",
      "metadata": {
        "id": "L7JRw5gbtLAJ"
      },
      "source": [
        "### Task 5: Run H2O AutoML"
      ]
    },
    {
      "cell_type": "code",
      "metadata": {
        "id": "P6hZOkM2tLAK"
      },
      "source": [
        "from h2o.automl import H2OAutoML"
      ],
      "execution_count": 24,
      "outputs": []
    },
    {
      "cell_type": "markdown",
      "metadata": {
        "id": "jWkMy54qbOgW"
      },
      "source": [
        "Cuidado estamos limitando la cantidad de tiempo a 10 min, normalmente el tiempo de procesamiento disponible es de una hora. (Lo optimo evidentemente varia dependiendo de nuestro problema)"
      ]
    },
    {
      "cell_type": "code",
      "metadata": {
        "id": "zcdYZ6FVtLAP",
        "outputId": "30d000fc-5ca7-4e44-8c90-726c44ebb675",
        "colab": {
          "base_uri": "https://localhost:8080/",
          "height": 69
        }
      },
      "source": [
        "aml = H2OAutoML(max_runtime_secs=600,\n",
        "                #exclude_algos=['DeepLearning'],\n",
        "                seed=1,\n",
        "                #stopping_metric='logloss',\n",
        "                #sort_metric='logloss',\n",
        "                balance_classes=False,\n",
        "                project_name='Completed'\n",
        ")\n",
        "%time aml.train(x=x, y=y, training_frame=train)"
      ],
      "execution_count": 25,
      "outputs": [
        {
          "output_type": "stream",
          "text": [
            "AutoML progress: |████████████████████████████████████████████████████████| 100%\n",
            "CPU times: user 1min 10s, sys: 1.07 s, total: 1min 11s\n",
            "Wall time: 9min 30s\n"
          ],
          "name": "stdout"
        }
      ]
    },
    {
      "cell_type": "markdown",
      "metadata": {
        "id": "RKfRlW9KtLAU"
      },
      "source": [
        "### Task 6: AutoML Leaderboard and Ensemble Exploration"
      ]
    },
    {
      "cell_type": "code",
      "metadata": {
        "id": "hCSa4VBctLAV",
        "outputId": "9cb3ef45-6ebb-4fea-8c5f-3e91dd52eb86",
        "colab": {
          "base_uri": "https://localhost:8080/",
          "height": 659
        }
      },
      "source": [
        "# View the AutoML Leaderboard\n",
        "lb = aml.leaderboard\n",
        "lb.head(rows=lb.nrows)  # Print all rows instead of default (10 rows)"
      ],
      "execution_count": 26,
      "outputs": [
        {
          "output_type": "display_data",
          "data": {
            "text/html": [
              "<table>\n",
              "<thead>\n",
              "<tr><th>model_id                                           </th><th style=\"text-align: right;\">     auc</th><th style=\"text-align: right;\">  logloss</th><th style=\"text-align: right;\">   aucpr</th><th style=\"text-align: right;\">  mean_per_class_error</th><th style=\"text-align: right;\">    rmse</th><th style=\"text-align: right;\">      mse</th></tr>\n",
              "</thead>\n",
              "<tbody>\n",
              "<tr><td>StackedEnsemble_AllModels_AutoML_20201027_175100   </td><td style=\"text-align: right;\">0.936945</td><td style=\"text-align: right;\"> 0.21509 </td><td style=\"text-align: right;\">0.63728 </td><td style=\"text-align: right;\">              0.163971</td><td style=\"text-align: right;\">0.254351</td><td style=\"text-align: right;\">0.0646943</td></tr>\n",
              "<tr><td>XGBoost_grid__1_AutoML_20201027_175100_model_5     </td><td style=\"text-align: right;\">0.935899</td><td style=\"text-align: right;\"> 0.1981  </td><td style=\"text-align: right;\">0.628326</td><td style=\"text-align: right;\">              0.165915</td><td style=\"text-align: right;\">0.249745</td><td style=\"text-align: right;\">0.0623728</td></tr>\n",
              "<tr><td>XGBoost_grid__1_AutoML_20201027_175100_model_2     </td><td style=\"text-align: right;\">0.934848</td><td style=\"text-align: right;\"> 0.199949</td><td style=\"text-align: right;\">0.628642</td><td style=\"text-align: right;\">              0.163037</td><td style=\"text-align: right;\">0.250478</td><td style=\"text-align: right;\">0.0627395</td></tr>\n",
              "<tr><td>XGBoost_3_AutoML_20201027_175100                   </td><td style=\"text-align: right;\">0.934552</td><td style=\"text-align: right;\"> 0.200607</td><td style=\"text-align: right;\">0.628369</td><td style=\"text-align: right;\">              0.157877</td><td style=\"text-align: right;\">0.250969</td><td style=\"text-align: right;\">0.0629855</td></tr>\n",
              "<tr><td>StackedEnsemble_BestOfFamily_AutoML_20201027_175100</td><td style=\"text-align: right;\">0.934469</td><td style=\"text-align: right;\"> 0.216973</td><td style=\"text-align: right;\">0.629409</td><td style=\"text-align: right;\">              0.176296</td><td style=\"text-align: right;\">0.255451</td><td style=\"text-align: right;\">0.0652551</td></tr>\n",
              "<tr><td>XGBoost_grid__1_AutoML_20201027_175100_model_1     </td><td style=\"text-align: right;\">0.93288 </td><td style=\"text-align: right;\"> 0.203591</td><td style=\"text-align: right;\">0.621237</td><td style=\"text-align: right;\">              0.160083</td><td style=\"text-align: right;\">0.253296</td><td style=\"text-align: right;\">0.0641587</td></tr>\n",
              "<tr><td>GBM_grid__1_AutoML_20201027_175100_model_2         </td><td style=\"text-align: right;\">0.932488</td><td style=\"text-align: right;\"> 0.20547 </td><td style=\"text-align: right;\">0.614551</td><td style=\"text-align: right;\">              0.169021</td><td style=\"text-align: right;\">0.254042</td><td style=\"text-align: right;\">0.0645371</td></tr>\n",
              "<tr><td>GBM_grid__1_AutoML_20201027_175100_model_3         </td><td style=\"text-align: right;\">0.930948</td><td style=\"text-align: right;\"> 0.205498</td><td style=\"text-align: right;\">0.620313</td><td style=\"text-align: right;\">              0.169706</td><td style=\"text-align: right;\">0.25221 </td><td style=\"text-align: right;\">0.0636098</td></tr>\n",
              "<tr><td>GBM_grid__1_AutoML_20201027_175100_model_1         </td><td style=\"text-align: right;\">0.930683</td><td style=\"text-align: right;\"> 0.206594</td><td style=\"text-align: right;\">0.619074</td><td style=\"text-align: right;\">              0.177351</td><td style=\"text-align: right;\">0.252819</td><td style=\"text-align: right;\">0.0639177</td></tr>\n",
              "<tr><td>XGBoost_grid__1_AutoML_20201027_175100_model_6     </td><td style=\"text-align: right;\">0.930013</td><td style=\"text-align: right;\"> 0.206392</td><td style=\"text-align: right;\">0.611381</td><td style=\"text-align: right;\">              0.178934</td><td style=\"text-align: right;\">0.25388 </td><td style=\"text-align: right;\">0.0644551</td></tr>\n",
              "<tr><td>GBM_2_AutoML_20201027_175100                       </td><td style=\"text-align: right;\">0.929704</td><td style=\"text-align: right;\"> 0.21193 </td><td style=\"text-align: right;\">0.618685</td><td style=\"text-align: right;\">              0.167611</td><td style=\"text-align: right;\">0.253737</td><td style=\"text-align: right;\">0.0643824</td></tr>\n",
              "<tr><td>XGBoost_1_AutoML_20201027_175100                   </td><td style=\"text-align: right;\">0.92958 </td><td style=\"text-align: right;\"> 0.20888 </td><td style=\"text-align: right;\">0.604922</td><td style=\"text-align: right;\">              0.162527</td><td style=\"text-align: right;\">0.256921</td><td style=\"text-align: right;\">0.0660085</td></tr>\n",
              "<tr><td>XGBoost_grid__1_AutoML_20201027_175100_model_4     </td><td style=\"text-align: right;\">0.929259</td><td style=\"text-align: right;\"> 0.214302</td><td style=\"text-align: right;\">0.608647</td><td style=\"text-align: right;\">              0.167022</td><td style=\"text-align: right;\">0.258692</td><td style=\"text-align: right;\">0.0669214</td></tr>\n",
              "<tr><td>GBM_5_AutoML_20201027_175100                       </td><td style=\"text-align: right;\">0.929096</td><td style=\"text-align: right;\"> 0.219463</td><td style=\"text-align: right;\">0.610803</td><td style=\"text-align: right;\">              0.171359</td><td style=\"text-align: right;\">0.256728</td><td style=\"text-align: right;\">0.0659092</td></tr>\n",
              "<tr><td>XGBoost_grid__1_AutoML_20201027_175100_model_3     </td><td style=\"text-align: right;\">0.929002</td><td style=\"text-align: right;\"> 0.211914</td><td style=\"text-align: right;\">0.603098</td><td style=\"text-align: right;\">              0.176301</td><td style=\"text-align: right;\">0.258271</td><td style=\"text-align: right;\">0.0667039</td></tr>\n",
              "<tr><td>GBM_3_AutoML_20201027_175100                       </td><td style=\"text-align: right;\">0.928405</td><td style=\"text-align: right;\"> 0.212966</td><td style=\"text-align: right;\">0.615808</td><td style=\"text-align: right;\">              0.177266</td><td style=\"text-align: right;\">0.254063</td><td style=\"text-align: right;\">0.0645481</td></tr>\n",
              "<tr><td>GBM_4_AutoML_20201027_175100                       </td><td style=\"text-align: right;\">0.928073</td><td style=\"text-align: right;\"> 0.217958</td><td style=\"text-align: right;\">0.613695</td><td style=\"text-align: right;\">              0.173004</td><td style=\"text-align: right;\">0.256312</td><td style=\"text-align: right;\">0.0656959</td></tr>\n",
              "<tr><td>GBM_1_AutoML_20201027_175100                       </td><td style=\"text-align: right;\">0.927767</td><td style=\"text-align: right;\"> 0.213995</td><td style=\"text-align: right;\">0.617512</td><td style=\"text-align: right;\">              0.165992</td><td style=\"text-align: right;\">0.254211</td><td style=\"text-align: right;\">0.064623 </td></tr>\n",
              "<tr><td>XGBoost_2_AutoML_20201027_175100                   </td><td style=\"text-align: right;\">0.925229</td><td style=\"text-align: right;\"> 0.214244</td><td style=\"text-align: right;\">0.600642</td><td style=\"text-align: right;\">              0.185403</td><td style=\"text-align: right;\">0.256235</td><td style=\"text-align: right;\">0.0656561</td></tr>\n",
              "<tr><td>XRT_1_AutoML_20201027_175100                       </td><td style=\"text-align: right;\">0.910852</td><td style=\"text-align: right;\"> 0.250044</td><td style=\"text-align: right;\">0.572563</td><td style=\"text-align: right;\">              0.172993</td><td style=\"text-align: right;\">0.262868</td><td style=\"text-align: right;\">0.0690998</td></tr>\n",
              "<tr><td>DRF_1_AutoML_20201027_175100                       </td><td style=\"text-align: right;\">0.90797 </td><td style=\"text-align: right;\"> 0.361865</td><td style=\"text-align: right;\">0.566079</td><td style=\"text-align: right;\">              0.193725</td><td style=\"text-align: right;\">0.261873</td><td style=\"text-align: right;\">0.0685776</td></tr>\n",
              "<tr><td>GLM_1_AutoML_20201027_175100                       </td><td style=\"text-align: right;\">0.907242</td><td style=\"text-align: right;\"> 0.241701</td><td style=\"text-align: right;\">0.555838</td><td style=\"text-align: right;\">              0.199093</td><td style=\"text-align: right;\">0.267815</td><td style=\"text-align: right;\">0.0717248</td></tr>\n",
              "<tr><td>GBM_grid__1_AutoML_20201027_175100_model_4         </td><td style=\"text-align: right;\">0.902682</td><td style=\"text-align: right;\"> 0.312081</td><td style=\"text-align: right;\">0.559958</td><td style=\"text-align: right;\">              0.189328</td><td style=\"text-align: right;\">0.302314</td><td style=\"text-align: right;\">0.0913937</td></tr>\n",
              "<tr><td>DeepLearning_grid__1_AutoML_20201027_175100_model_1</td><td style=\"text-align: right;\">0.873505</td><td style=\"text-align: right;\"> 0.365703</td><td style=\"text-align: right;\">0.50322 </td><td style=\"text-align: right;\">              0.239085</td><td style=\"text-align: right;\">0.297103</td><td style=\"text-align: right;\">0.0882701</td></tr>\n",
              "<tr><td>DeepLearning_1_AutoML_20201027_175100              </td><td style=\"text-align: right;\">0.863266</td><td style=\"text-align: right;\"> 0.400333</td><td style=\"text-align: right;\">0.467233</td><td style=\"text-align: right;\">              0.244407</td><td style=\"text-align: right;\">0.306177</td><td style=\"text-align: right;\">0.0937446</td></tr>\n",
              "<tr><td>DeepLearning_grid__3_AutoML_20201027_175100_model_1</td><td style=\"text-align: right;\">0.858273</td><td style=\"text-align: right;\"> 0.352123</td><td style=\"text-align: right;\">0.469079</td><td style=\"text-align: right;\">              0.25254 </td><td style=\"text-align: right;\">0.301348</td><td style=\"text-align: right;\">0.0908105</td></tr>\n",
              "<tr><td>DeepLearning_grid__2_AutoML_20201027_175100_model_1</td><td style=\"text-align: right;\">0.855357</td><td style=\"text-align: right;\"> 0.3111  </td><td style=\"text-align: right;\">0.469077</td><td style=\"text-align: right;\">              0.263305</td><td style=\"text-align: right;\">0.290681</td><td style=\"text-align: right;\">0.0844952</td></tr>\n",
              "<tr><td>DeepLearning_grid__1_AutoML_20201027_175100_model_2</td><td style=\"text-align: right;\">0.774926</td><td style=\"text-align: right;\"> 0.701549</td><td style=\"text-align: right;\">0.345434</td><td style=\"text-align: right;\">              0.329301</td><td style=\"text-align: right;\">0.328835</td><td style=\"text-align: right;\">0.108132 </td></tr>\n",
              "</tbody>\n",
              "</table>"
            ]
          },
          "metadata": {
            "tags": []
          }
        },
        {
          "output_type": "execute_result",
          "data": {
            "text/plain": [
              ""
            ]
          },
          "metadata": {
            "tags": []
          },
          "execution_count": 26
        }
      ]
    },
    {
      "cell_type": "markdown",
      "metadata": {
        "id": "hEaISXIob43_"
      },
      "source": [
        "Verificamos el comportamiento de los ensambles de modelos."
      ]
    },
    {
      "cell_type": "code",
      "metadata": {
        "id": "JwC49VX2tLAb"
      },
      "source": [
        "# Get the \"All Models\" Stacked Ensemble model\n",
        "se = aml.leader\n",
        "\n",
        "# Get the Stacked Ensemble metalearner model\n",
        "metalearner = h2o.get_model(se.metalearner()['name'])"
      ],
      "execution_count": 27,
      "outputs": []
    },
    {
      "cell_type": "code",
      "metadata": {
        "id": "hKTgZKtmtLAf",
        "outputId": "c13f4cb9-9904-4c70-d038-bc158aa994d2",
        "colab": {
          "base_uri": "https://localhost:8080/",
          "height": 990
        }
      },
      "source": [
        "metalearner.varimp()"
      ],
      "execution_count": 28,
      "outputs": [
        {
          "output_type": "execute_result",
          "data": {
            "text/plain": [
              "[('XRT_1_AutoML_20201027_175100',\n",
              "  0.24106562343934176,\n",
              "  1.0,\n",
              "  0.15288378764298394),\n",
              " ('DRF_1_AutoML_20201027_175100',\n",
              "  0.23345433928507084,\n",
              "  0.9684265054233827,\n",
              "  0.14805671220298547),\n",
              " ('XGBoost_grid__1_AutoML_20201027_175100_model_5',\n",
              "  0.20081242061909202,\n",
              "  0.8330197302877634,\n",
              "  0.12735521154773016),\n",
              " ('XGBoost_grid__1_AutoML_20201027_175100_model_2',\n",
              "  0.1996172772854239,\n",
              "  0.8280619792960761,\n",
              "  0.12659725179793024),\n",
              " ('GBM_5_AutoML_20201027_175100',\n",
              "  0.19716789594390194,\n",
              "  0.8179013379463222,\n",
              "  0.12504385446349797),\n",
              " ('XGBoost_grid__1_AutoML_20201027_175100_model_1',\n",
              "  0.1781853809226963,\n",
              "  0.7391571572108965,\n",
              "  0.11300514585782238),\n",
              " ('XGBoost_3_AutoML_20201027_175100',\n",
              "  0.17317733121944215,\n",
              "  0.7183825248439787,\n",
              "  0.10982904137467747),\n",
              " ('XGBoost_grid__1_AutoML_20201027_175100_model_3',\n",
              "  0.06053899658255523,\n",
              "  0.2511307739313083,\n",
              "  0.03839382391233234),\n",
              " ('XGBoost_grid__1_AutoML_20201027_175100_model_4',\n",
              "  0.05772562595210867,\n",
              "  0.2394602147271069,\n",
              "  0.036609584617282344),\n",
              " ('GBM_grid__1_AutoML_20201027_175100_model_4',\n",
              "  0.03504508207494973,\n",
              "  0.14537569303724454,\n",
              "  0.022225586582757712),\n",
              " ('GBM_grid__1_AutoML_20201027_175100_model_2', 0.0, 0.0, 0.0),\n",
              " ('GBM_grid__1_AutoML_20201027_175100_model_3', 0.0, 0.0, 0.0),\n",
              " ('GBM_grid__1_AutoML_20201027_175100_model_1', 0.0, 0.0, 0.0),\n",
              " ('XGBoost_grid__1_AutoML_20201027_175100_model_6', 0.0, 0.0, 0.0),\n",
              " ('GBM_2_AutoML_20201027_175100', 0.0, 0.0, 0.0),\n",
              " ('XGBoost_1_AutoML_20201027_175100', 0.0, 0.0, 0.0),\n",
              " ('GBM_3_AutoML_20201027_175100', 0.0, 0.0, 0.0),\n",
              " ('GBM_4_AutoML_20201027_175100', 0.0, 0.0, 0.0),\n",
              " ('GBM_1_AutoML_20201027_175100', 0.0, 0.0, 0.0),\n",
              " ('XGBoost_2_AutoML_20201027_175100', 0.0, 0.0, 0.0),\n",
              " ('GLM_1_AutoML_20201027_175100', 0.0, 0.0, 0.0),\n",
              " ('DeepLearning_grid__1_AutoML_20201027_175100_model_1', 0.0, 0.0, 0.0),\n",
              " ('DeepLearning_1_AutoML_20201027_175100', 0.0, 0.0, 0.0),\n",
              " ('DeepLearning_grid__3_AutoML_20201027_175100_model_1', 0.0, 0.0, 0.0),\n",
              " ('DeepLearning_grid__2_AutoML_20201027_175100_model_1', 0.0, 0.0, 0.0),\n",
              " ('DeepLearning_grid__1_AutoML_20201027_175100_model_2', 0.0, 0.0, 0.0)]"
            ]
          },
          "metadata": {
            "tags": []
          },
          "execution_count": 28
        }
      ]
    },
    {
      "cell_type": "markdown",
      "metadata": {
        "id": "6M-8lRPbtLAl"
      },
      "source": [
        "### Task 7: Baselearner Model Exploration"
      ]
    },
    {
      "cell_type": "markdown",
      "metadata": {
        "id": "T-HS440zbxVl"
      },
      "source": [
        "Ahora vamos a ver el comportamiento de nuestro mejor submodelo."
      ]
    },
    {
      "cell_type": "code",
      "metadata": {
        "id": "GWlI9C_2tLAn"
      },
      "source": [
        "model = h2o.get_model('XRT_1_AutoML_20201027_175100')"
      ],
      "execution_count": 29,
      "outputs": []
    },
    {
      "cell_type": "code",
      "metadata": {
        "id": "v08StyKRtLAr",
        "outputId": "aedaf620-de30-48c5-f02c-48a261038dbd",
        "colab": {
          "base_uri": "https://localhost:8080/",
          "height": 1000
        }
      },
      "source": [
        "model.model_performance(test)"
      ],
      "execution_count": 30,
      "outputs": [
        {
          "output_type": "stream",
          "text": [
            "\n",
            "ModelMetricsBinomial: drf\n",
            "** Reported on test data. **\n",
            "\n",
            "MSE: 0.06586449201388185\n",
            "RMSE: 0.25664078400340395\n",
            "LogLoss: 0.22859486071916196\n",
            "Mean Per-Class Error: 0.14770814671251642\n",
            "AUC: 0.9156133889526225\n",
            "AUCPR: 0.5741703876006906\n",
            "Gini: 0.8312267779052449\n",
            "\n",
            "Confusion Matrix (Act/Pred) for max f1 @ threshold = 0.33036432271966565: \n"
          ],
          "name": "stdout"
        },
        {
          "output_type": "display_data",
          "data": {
            "text/html": [
              "<div>\n",
              "<style scoped>\n",
              "    .dataframe tbody tr th:only-of-type {\n",
              "        vertical-align: middle;\n",
              "    }\n",
              "\n",
              "    .dataframe tbody tr th {\n",
              "        vertical-align: top;\n",
              "    }\n",
              "\n",
              "    .dataframe thead th {\n",
              "        text-align: right;\n",
              "    }\n",
              "</style>\n",
              "<table border=\"1\" class=\"dataframe\">\n",
              "  <thead>\n",
              "    <tr style=\"text-align: right;\">\n",
              "      <th></th>\n",
              "      <th></th>\n",
              "      <th>no</th>\n",
              "      <th>yes</th>\n",
              "      <th>Error</th>\n",
              "      <th>Rate</th>\n",
              "    </tr>\n",
              "  </thead>\n",
              "  <tbody>\n",
              "    <tr>\n",
              "      <th>0</th>\n",
              "      <td>no</td>\n",
              "      <td>9182.0</td>\n",
              "      <td>817.0</td>\n",
              "      <td>0.0817</td>\n",
              "      <td>(817.0/9999.0)</td>\n",
              "    </tr>\n",
              "    <tr>\n",
              "      <th>1</th>\n",
              "      <td>yes</td>\n",
              "      <td>403.0</td>\n",
              "      <td>850.0</td>\n",
              "      <td>0.3216</td>\n",
              "      <td>(403.0/1253.0)</td>\n",
              "    </tr>\n",
              "    <tr>\n",
              "      <th>2</th>\n",
              "      <td>Total</td>\n",
              "      <td>9585.0</td>\n",
              "      <td>1667.0</td>\n",
              "      <td>0.1084</td>\n",
              "      <td>(1220.0/11252.0)</td>\n",
              "    </tr>\n",
              "  </tbody>\n",
              "</table>\n",
              "</div>"
            ],
            "text/plain": [
              "              no     yes   Error               Rate\n",
              "0     no  9182.0   817.0  0.0817     (817.0/9999.0)\n",
              "1    yes   403.0   850.0  0.3216     (403.0/1253.0)\n",
              "2  Total  9585.0  1667.0  0.1084   (1220.0/11252.0)"
            ]
          },
          "metadata": {
            "tags": []
          }
        },
        {
          "output_type": "stream",
          "text": [
            "\n",
            "Maximum Metrics: Maximum metrics at their respective thresholds\n"
          ],
          "name": "stdout"
        },
        {
          "output_type": "display_data",
          "data": {
            "text/html": [
              "<div>\n",
              "<style scoped>\n",
              "    .dataframe tbody tr th:only-of-type {\n",
              "        vertical-align: middle;\n",
              "    }\n",
              "\n",
              "    .dataframe tbody tr th {\n",
              "        vertical-align: top;\n",
              "    }\n",
              "\n",
              "    .dataframe thead th {\n",
              "        text-align: right;\n",
              "    }\n",
              "</style>\n",
              "<table border=\"1\" class=\"dataframe\">\n",
              "  <thead>\n",
              "    <tr style=\"text-align: right;\">\n",
              "      <th></th>\n",
              "      <th>metric</th>\n",
              "      <th>threshold</th>\n",
              "      <th>value</th>\n",
              "      <th>idx</th>\n",
              "    </tr>\n",
              "  </thead>\n",
              "  <tbody>\n",
              "    <tr>\n",
              "      <th>0</th>\n",
              "      <td>max f1</td>\n",
              "      <td>0.330364</td>\n",
              "      <td>0.582192</td>\n",
              "      <td>186.0</td>\n",
              "    </tr>\n",
              "    <tr>\n",
              "      <th>1</th>\n",
              "      <td>max f2</td>\n",
              "      <td>0.166529</td>\n",
              "      <td>0.701754</td>\n",
              "      <td>262.0</td>\n",
              "    </tr>\n",
              "    <tr>\n",
              "      <th>2</th>\n",
              "      <td>max f0point5</td>\n",
              "      <td>0.467088</td>\n",
              "      <td>0.566021</td>\n",
              "      <td>132.0</td>\n",
              "    </tr>\n",
              "    <tr>\n",
              "      <th>3</th>\n",
              "      <td>max accuracy</td>\n",
              "      <td>0.615374</td>\n",
              "      <td>0.905883</td>\n",
              "      <td>83.0</td>\n",
              "    </tr>\n",
              "    <tr>\n",
              "      <th>4</th>\n",
              "      <td>max precision</td>\n",
              "      <td>1.000000</td>\n",
              "      <td>1.000000</td>\n",
              "      <td>0.0</td>\n",
              "    </tr>\n",
              "    <tr>\n",
              "      <th>5</th>\n",
              "      <td>max recall</td>\n",
              "      <td>0.000030</td>\n",
              "      <td>1.000000</td>\n",
              "      <td>399.0</td>\n",
              "    </tr>\n",
              "    <tr>\n",
              "      <th>6</th>\n",
              "      <td>max specificity</td>\n",
              "      <td>1.000000</td>\n",
              "      <td>1.000000</td>\n",
              "      <td>0.0</td>\n",
              "    </tr>\n",
              "    <tr>\n",
              "      <th>7</th>\n",
              "      <td>max absolute_mcc</td>\n",
              "      <td>0.241692</td>\n",
              "      <td>0.530801</td>\n",
              "      <td>225.0</td>\n",
              "    </tr>\n",
              "    <tr>\n",
              "      <th>8</th>\n",
              "      <td>max min_per_class_accuracy</td>\n",
              "      <td>0.192453</td>\n",
              "      <td>0.847285</td>\n",
              "      <td>247.0</td>\n",
              "    </tr>\n",
              "    <tr>\n",
              "      <th>9</th>\n",
              "      <td>max mean_per_class_accuracy</td>\n",
              "      <td>0.166529</td>\n",
              "      <td>0.852292</td>\n",
              "      <td>262.0</td>\n",
              "    </tr>\n",
              "    <tr>\n",
              "      <th>10</th>\n",
              "      <td>max tns</td>\n",
              "      <td>1.000000</td>\n",
              "      <td>9999.000000</td>\n",
              "      <td>0.0</td>\n",
              "    </tr>\n",
              "    <tr>\n",
              "      <th>11</th>\n",
              "      <td>max fns</td>\n",
              "      <td>1.000000</td>\n",
              "      <td>1245.000000</td>\n",
              "      <td>0.0</td>\n",
              "    </tr>\n",
              "    <tr>\n",
              "      <th>12</th>\n",
              "      <td>max fps</td>\n",
              "      <td>0.000030</td>\n",
              "      <td>9999.000000</td>\n",
              "      <td>399.0</td>\n",
              "    </tr>\n",
              "    <tr>\n",
              "      <th>13</th>\n",
              "      <td>max tps</td>\n",
              "      <td>0.000030</td>\n",
              "      <td>1253.000000</td>\n",
              "      <td>399.0</td>\n",
              "    </tr>\n",
              "    <tr>\n",
              "      <th>14</th>\n",
              "      <td>max tnr</td>\n",
              "      <td>1.000000</td>\n",
              "      <td>1.000000</td>\n",
              "      <td>0.0</td>\n",
              "    </tr>\n",
              "    <tr>\n",
              "      <th>15</th>\n",
              "      <td>max fnr</td>\n",
              "      <td>1.000000</td>\n",
              "      <td>0.993615</td>\n",
              "      <td>0.0</td>\n",
              "    </tr>\n",
              "    <tr>\n",
              "      <th>16</th>\n",
              "      <td>max fpr</td>\n",
              "      <td>0.000030</td>\n",
              "      <td>1.000000</td>\n",
              "      <td>399.0</td>\n",
              "    </tr>\n",
              "    <tr>\n",
              "      <th>17</th>\n",
              "      <td>max tpr</td>\n",
              "      <td>0.000030</td>\n",
              "      <td>1.000000</td>\n",
              "      <td>399.0</td>\n",
              "    </tr>\n",
              "  </tbody>\n",
              "</table>\n",
              "</div>"
            ],
            "text/plain": [
              "                         metric  threshold        value    idx\n",
              "0                        max f1   0.330364     0.582192  186.0\n",
              "1                        max f2   0.166529     0.701754  262.0\n",
              "2                  max f0point5   0.467088     0.566021  132.0\n",
              "3                  max accuracy   0.615374     0.905883   83.0\n",
              "4                 max precision   1.000000     1.000000    0.0\n",
              "5                    max recall   0.000030     1.000000  399.0\n",
              "6               max specificity   1.000000     1.000000    0.0\n",
              "7              max absolute_mcc   0.241692     0.530801  225.0\n",
              "8    max min_per_class_accuracy   0.192453     0.847285  247.0\n",
              "9   max mean_per_class_accuracy   0.166529     0.852292  262.0\n",
              "10                      max tns   1.000000  9999.000000    0.0\n",
              "11                      max fns   1.000000  1245.000000    0.0\n",
              "12                      max fps   0.000030  9999.000000  399.0\n",
              "13                      max tps   0.000030  1253.000000  399.0\n",
              "14                      max tnr   1.000000     1.000000    0.0\n",
              "15                      max fnr   1.000000     0.993615    0.0\n",
              "16                      max fpr   0.000030     1.000000  399.0\n",
              "17                      max tpr   0.000030     1.000000  399.0"
            ]
          },
          "metadata": {
            "tags": []
          }
        },
        {
          "output_type": "stream",
          "text": [
            "\n",
            "Gains/Lift Table: Avg response rate: 11.14 %, avg score: 13.38 %\n"
          ],
          "name": "stdout"
        },
        {
          "output_type": "display_data",
          "data": {
            "text/html": [
              "<div>\n",
              "<style scoped>\n",
              "    .dataframe tbody tr th:only-of-type {\n",
              "        vertical-align: middle;\n",
              "    }\n",
              "\n",
              "    .dataframe tbody tr th {\n",
              "        vertical-align: top;\n",
              "    }\n",
              "\n",
              "    .dataframe thead th {\n",
              "        text-align: right;\n",
              "    }\n",
              "</style>\n",
              "<table border=\"1\" class=\"dataframe\">\n",
              "  <thead>\n",
              "    <tr style=\"text-align: right;\">\n",
              "      <th></th>\n",
              "      <th>group</th>\n",
              "      <th>cumulative_data_fraction</th>\n",
              "      <th>lower_threshold</th>\n",
              "      <th>lift</th>\n",
              "      <th>cumulative_lift</th>\n",
              "      <th>response_rate</th>\n",
              "      <th>score</th>\n",
              "      <th>cumulative_response_rate</th>\n",
              "      <th>cumulative_score</th>\n",
              "      <th>capture_rate</th>\n",
              "      <th>cumulative_capture_rate</th>\n",
              "      <th>gain</th>\n",
              "      <th>cumulative_gain</th>\n",
              "      <th>kolmogorov_smirnov</th>\n",
              "    </tr>\n",
              "  </thead>\n",
              "  <tbody>\n",
              "    <tr>\n",
              "      <th>0</th>\n",
              "      <td>1</td>\n",
              "      <td>0.010043</td>\n",
              "      <td>0.827986</td>\n",
              "      <td>7.152251</td>\n",
              "      <td>7.152251</td>\n",
              "      <td>0.796460</td>\n",
              "      <td>0.890568</td>\n",
              "      <td>0.796460</td>\n",
              "      <td>0.890568</td>\n",
              "      <td>0.071828</td>\n",
              "      <td>0.071828</td>\n",
              "      <td>615.225053</td>\n",
              "      <td>615.225053</td>\n",
              "      <td>0.069527</td>\n",
              "    </tr>\n",
              "    <tr>\n",
              "      <th>1</th>\n",
              "      <td>2</td>\n",
              "      <td>0.020085</td>\n",
              "      <td>0.761527</td>\n",
              "      <td>6.754903</td>\n",
              "      <td>6.953577</td>\n",
              "      <td>0.752212</td>\n",
              "      <td>0.791411</td>\n",
              "      <td>0.774336</td>\n",
              "      <td>0.840989</td>\n",
              "      <td>0.067837</td>\n",
              "      <td>0.139665</td>\n",
              "      <td>575.490328</td>\n",
              "      <td>595.357690</td>\n",
              "      <td>0.134564</td>\n",
              "    </tr>\n",
              "    <tr>\n",
              "      <th>2</th>\n",
              "      <td>3</td>\n",
              "      <td>0.030039</td>\n",
              "      <td>0.693711</td>\n",
              "      <td>5.612530</td>\n",
              "      <td>6.509206</td>\n",
              "      <td>0.625000</td>\n",
              "      <td>0.728919</td>\n",
              "      <td>0.724852</td>\n",
              "      <td>0.803853</td>\n",
              "      <td>0.055866</td>\n",
              "      <td>0.195531</td>\n",
              "      <td>461.252993</td>\n",
              "      <td>550.920631</td>\n",
              "      <td>0.186230</td>\n",
              "    </tr>\n",
              "    <tr>\n",
              "      <th>3</th>\n",
              "      <td>4</td>\n",
              "      <td>0.040526</td>\n",
              "      <td>0.653846</td>\n",
              "      <td>5.403249</td>\n",
              "      <td>6.223016</td>\n",
              "      <td>0.601695</td>\n",
              "      <td>0.677283</td>\n",
              "      <td>0.692982</td>\n",
              "      <td>0.771101</td>\n",
              "      <td>0.056664</td>\n",
              "      <td>0.252195</td>\n",
              "      <td>440.324915</td>\n",
              "      <td>522.301564</td>\n",
              "      <td>0.238193</td>\n",
              "    </tr>\n",
              "    <tr>\n",
              "      <th>4</th>\n",
              "      <td>5</td>\n",
              "      <td>0.052080</td>\n",
              "      <td>0.615385</td>\n",
              "      <td>5.111720</td>\n",
              "      <td>5.976482</td>\n",
              "      <td>0.569231</td>\n",
              "      <td>0.626511</td>\n",
              "      <td>0.665529</td>\n",
              "      <td>0.739024</td>\n",
              "      <td>0.059058</td>\n",
              "      <td>0.311253</td>\n",
              "      <td>411.171957</td>\n",
              "      <td>497.648238</td>\n",
              "      <td>0.291651</td>\n",
              "    </tr>\n",
              "    <tr>\n",
              "      <th>5</th>\n",
              "      <td>6</td>\n",
              "      <td>0.100871</td>\n",
              "      <td>0.461538</td>\n",
              "      <td>4.301917</td>\n",
              "      <td>5.166495</td>\n",
              "      <td>0.479053</td>\n",
              "      <td>0.529343</td>\n",
              "      <td>0.575330</td>\n",
              "      <td>0.637602</td>\n",
              "      <td>0.209896</td>\n",
              "      <td>0.521149</td>\n",
              "      <td>330.191729</td>\n",
              "      <td>416.649451</td>\n",
              "      <td>0.472944</td>\n",
              "    </tr>\n",
              "    <tr>\n",
              "      <th>6</th>\n",
              "      <td>7</td>\n",
              "      <td>0.150018</td>\n",
              "      <td>0.325273</td>\n",
              "      <td>3.247757</td>\n",
              "      <td>4.537903</td>\n",
              "      <td>0.361664</td>\n",
              "      <td>0.388414</td>\n",
              "      <td>0.505332</td>\n",
              "      <td>0.555966</td>\n",
              "      <td>0.159617</td>\n",
              "      <td>0.680766</td>\n",
              "      <td>224.775692</td>\n",
              "      <td>353.790334</td>\n",
              "      <td>0.597258</td>\n",
              "    </tr>\n",
              "    <tr>\n",
              "      <th>7</th>\n",
              "      <td>8</td>\n",
              "      <td>0.200053</td>\n",
              "      <td>0.235596</td>\n",
              "      <td>2.344702</td>\n",
              "      <td>3.989359</td>\n",
              "      <td>0.261101</td>\n",
              "      <td>0.280059</td>\n",
              "      <td>0.444247</td>\n",
              "      <td>0.486959</td>\n",
              "      <td>0.117318</td>\n",
              "      <td>0.798085</td>\n",
              "      <td>134.470167</td>\n",
              "      <td>298.935934</td>\n",
              "      <td>0.672972</td>\n",
              "    </tr>\n",
              "    <tr>\n",
              "      <th>8</th>\n",
              "      <td>9</td>\n",
              "      <td>0.300036</td>\n",
              "      <td>0.118591</td>\n",
              "      <td>1.157428</td>\n",
              "      <td>3.045662</td>\n",
              "      <td>0.128889</td>\n",
              "      <td>0.173219</td>\n",
              "      <td>0.339159</td>\n",
              "      <td>0.382410</td>\n",
              "      <td>0.115722</td>\n",
              "      <td>0.913807</td>\n",
              "      <td>15.742839</td>\n",
              "      <td>204.566198</td>\n",
              "      <td>0.690685</td>\n",
              "    </tr>\n",
              "    <tr>\n",
              "      <th>9</th>\n",
              "      <td>10</td>\n",
              "      <td>0.403306</td>\n",
              "      <td>0.077035</td>\n",
              "      <td>0.440501</td>\n",
              "      <td>2.378585</td>\n",
              "      <td>0.049053</td>\n",
              "      <td>0.090748</td>\n",
              "      <td>0.264874</td>\n",
              "      <td>0.307727</td>\n",
              "      <td>0.045491</td>\n",
              "      <td>0.959298</td>\n",
              "      <td>-55.949851</td>\n",
              "      <td>137.858474</td>\n",
              "      <td>0.625664</td>\n",
              "    </tr>\n",
              "    <tr>\n",
              "      <th>10</th>\n",
              "      <td>11</td>\n",
              "      <td>0.500444</td>\n",
              "      <td>0.038573</td>\n",
              "      <td>0.180751</td>\n",
              "      <td>1.951976</td>\n",
              "      <td>0.020128</td>\n",
              "      <td>0.059552</td>\n",
              "      <td>0.217368</td>\n",
              "      <td>0.259555</td>\n",
              "      <td>0.017558</td>\n",
              "      <td>0.976856</td>\n",
              "      <td>-81.924881</td>\n",
              "      <td>95.197631</td>\n",
              "      <td>0.536111</td>\n",
              "    </tr>\n",
              "    <tr>\n",
              "      <th>11</th>\n",
              "      <td>12</td>\n",
              "      <td>0.599982</td>\n",
              "      <td>0.015855</td>\n",
              "      <td>0.112251</td>\n",
              "      <td>1.646763</td>\n",
              "      <td>0.012500</td>\n",
              "      <td>0.027540</td>\n",
              "      <td>0.183380</td>\n",
              "      <td>0.221064</td>\n",
              "      <td>0.011173</td>\n",
              "      <td>0.988029</td>\n",
              "      <td>-88.774940</td>\n",
              "      <td>64.676334</td>\n",
              "      <td>0.436674</td>\n",
              "    </tr>\n",
              "    <tr>\n",
              "      <th>12</th>\n",
              "      <td>13</td>\n",
              "      <td>0.699964</td>\n",
              "      <td>0.004446</td>\n",
              "      <td>0.015965</td>\n",
              "      <td>1.413822</td>\n",
              "      <td>0.001778</td>\n",
              "      <td>0.008630</td>\n",
              "      <td>0.157440</td>\n",
              "      <td>0.190720</td>\n",
              "      <td>0.001596</td>\n",
              "      <td>0.989625</td>\n",
              "      <td>-98.403547</td>\n",
              "      <td>41.382166</td>\n",
              "      <td>0.325959</td>\n",
              "    </tr>\n",
              "    <tr>\n",
              "      <th>13</th>\n",
              "      <td>14</td>\n",
              "      <td>0.800036</td>\n",
              "      <td>0.000788</td>\n",
              "      <td>0.063801</td>\n",
              "      <td>1.244957</td>\n",
              "      <td>0.007105</td>\n",
              "      <td>0.002259</td>\n",
              "      <td>0.138636</td>\n",
              "      <td>0.167146</td>\n",
              "      <td>0.006385</td>\n",
              "      <td>0.996010</td>\n",
              "      <td>-93.619859</td>\n",
              "      <td>24.495665</td>\n",
              "      <td>0.220532</td>\n",
              "    </tr>\n",
              "    <tr>\n",
              "      <th>14</th>\n",
              "      <td>15</td>\n",
              "      <td>1.000000</td>\n",
              "      <td>0.000000</td>\n",
              "      <td>0.019956</td>\n",
              "      <td>1.000000</td>\n",
              "      <td>0.002222</td>\n",
              "      <td>0.000136</td>\n",
              "      <td>0.111358</td>\n",
              "      <td>0.133750</td>\n",
              "      <td>0.003990</td>\n",
              "      <td>1.000000</td>\n",
              "      <td>-98.004434</td>\n",
              "      <td>0.000000</td>\n",
              "      <td>0.000000</td>\n",
              "    </tr>\n",
              "  </tbody>\n",
              "</table>\n",
              "</div>"
            ],
            "text/plain": [
              "    group  cumulative_data_fraction  ...  cumulative_gain  kolmogorov_smirnov\n",
              "0       1                  0.010043  ...       615.225053            0.069527\n",
              "1       2                  0.020085  ...       595.357690            0.134564\n",
              "2       3                  0.030039  ...       550.920631            0.186230\n",
              "3       4                  0.040526  ...       522.301564            0.238193\n",
              "4       5                  0.052080  ...       497.648238            0.291651\n",
              "5       6                  0.100871  ...       416.649451            0.472944\n",
              "6       7                  0.150018  ...       353.790334            0.597258\n",
              "7       8                  0.200053  ...       298.935934            0.672972\n",
              "8       9                  0.300036  ...       204.566198            0.690685\n",
              "9      10                  0.403306  ...       137.858474            0.625664\n",
              "10     11                  0.500444  ...        95.197631            0.536111\n",
              "11     12                  0.599982  ...        64.676334            0.436674\n",
              "12     13                  0.699964  ...        41.382166            0.325959\n",
              "13     14                  0.800036  ...        24.495665            0.220532\n",
              "14     15                  1.000000  ...         0.000000            0.000000\n",
              "\n",
              "[15 rows x 14 columns]"
            ]
          },
          "metadata": {
            "tags": []
          }
        },
        {
          "output_type": "stream",
          "text": [
            "\n"
          ],
          "name": "stdout"
        },
        {
          "output_type": "execute_result",
          "data": {
            "text/plain": [
              ""
            ]
          },
          "metadata": {
            "tags": []
          },
          "execution_count": 30
        }
      ]
    },
    {
      "cell_type": "markdown",
      "metadata": {
        "id": "xSju4hZwcAhJ"
      },
      "source": [
        "\"Significancia\" de variables"
      ]
    },
    {
      "cell_type": "code",
      "metadata": {
        "id": "ImlhIPM8tLAz",
        "outputId": "a2be9a3f-c264-4111-fcdb-48534df2f0da",
        "colab": {
          "base_uri": "https://localhost:8080/",
          "height": 612
        }
      },
      "source": [
        "model.varimp_plot(num_of_features=20)"
      ],
      "execution_count": 31,
      "outputs": [
        {
          "output_type": "display_data",
          "data": {
            "image/png": "[encoded data removed]",
            "text/plain": [
              "<Figure size 1008x720 with 1 Axes>"
            ]
          },
          "metadata": {
            "tags": [],
            "needs_background": "light"
          }
        }
      ]
    },
    {
      "cell_type": "markdown",
      "metadata": {
        "id": "Z5eXbhKpcFlJ"
      },
      "source": [
        "\"Significancia local\" por variable duracion"
      ]
    },
    {
      "cell_type": "code",
      "metadata": {
        "id": "wY7jYLlYtLA3",
        "outputId": "e8c0d2b1-bbbc-426e-d51d-c6d0d974f0b2",
        "colab": {
          "base_uri": "https://localhost:8080/",
          "height": 455
        }
      },
      "source": [
        "model.partial_plot(train, cols=[\"DURATION\"], figsize=(5,5));"
      ],
      "execution_count": 32,
      "outputs": [
        {
          "output_type": "stream",
          "text": [
            "PartialDependencePlot progress: |█████████████████████████████████████████| 100%\n"
          ],
          "name": "stdout"
        },
        {
          "output_type": "stream",
          "text": [
            "/usr/local/lib/python3.6/dist-packages/h2o/model/model_base.py:1365: MatplotlibDeprecationWarning: The parameter where must have the same size as x in fill_between(). This will become an error in future versions of Matplotlib.\n",
            "  axs.fill_between(x, lower, upper, where=lower < upper, alpha=0.1, interpolate=False)\n"
          ],
          "name": "stderr"
        },
        {
          "output_type": "display_data",
          "data": {
            "image/png": "[encoded data removed]",
            "text/plain": [
              "<Figure size 360x360 with 1 Axes>"
            ]
          },
          "metadata": {
            "tags": [],
            "needs_background": "light"
          }
        }
      ]
    },
    {
      "cell_type": "code",
      "metadata": {
        "id": "gJrgTQAXtLA7"
      },
      "source": [
        "# save the model\n",
        "model_path = h2o.save_model(model=model, path='/home/rhyme/Desktop/Project/', force=True)\n",
        "print(model_path)"
      ],
      "execution_count": null,
      "outputs": []
    },
    {
      "cell_type": "markdown",
      "metadata": {
        "id": "1zYDvLg6tLBA"
      },
      "source": [
        " "
      ]
    },
    {
      "cell_type": "markdown",
      "metadata": {
        "id": "fAmbjqcHtLBB"
      },
      "source": [
        "### (Optional) Correlation Analysis"
      ]
    },
    {
      "cell_type": "code",
      "metadata": {
        "id": "SoQhG2XntLBB"
      },
      "source": [
        "copy = df.copy()\n",
        "copy.head()"
      ],
      "execution_count": null,
      "outputs": []
    },
    {
      "cell_type": "code",
      "metadata": {
        "id": "N1lv-T-atLBG"
      },
      "source": [
        "bin_labels = ['bin1', 'bin2', 'bin3', 'bin4']\n",
        "copy[['AGE','BALANCE','DAY','DURATION']] = copy[['AGE','BALANCE','DAY','DURATION']].transform(lambda x: pd.qcut(x, q=4, labels=bin_labels))"
      ],
      "execution_count": null,
      "outputs": []
    },
    {
      "cell_type": "code",
      "metadata": {
        "id": "8GZBp_7jtLBK"
      },
      "source": [
        "copy['CAMPAIGN'] = pd.qcut(copy.CAMPAIGN, q=4, duplicates='drop', labels=bin_labels[:3])"
      ],
      "execution_count": null,
      "outputs": []
    },
    {
      "cell_type": "code",
      "metadata": {
        "id": "ztXT7bxStLBO"
      },
      "source": [
        "copy['PDAYS'] = pd.qcut(copy.PDAYS, q=4, duplicates='drop', labels=bin_labels[:1])"
      ],
      "execution_count": null,
      "outputs": []
    },
    {
      "cell_type": "code",
      "metadata": {
        "id": "sPor7-JwtLBT"
      },
      "source": [
        "copy['PREVIOUS'] = pd.qcut(copy.PREVIOUS, q=4, duplicates='drop', labels=bin_labels[:1])"
      ],
      "execution_count": null,
      "outputs": []
    },
    {
      "cell_type": "code",
      "metadata": {
        "id": "kBe3vKwhtLBW"
      },
      "source": [
        "copy.head()"
      ],
      "execution_count": null,
      "outputs": []
    },
    {
      "cell_type": "code",
      "metadata": {
        "id": "lMAQNHTTtLBd"
      },
      "source": [
        "copy_oh = pd.get_dummies(copy)\n",
        "copy_oh.head()"
      ],
      "execution_count": null,
      "outputs": []
    },
    {
      "cell_type": "code",
      "metadata": {
        "id": "lMvr9FnztLBh"
      },
      "source": [
        "copy_oh.corr()['TERM_DEPOSIT_yes'].sort_values(ascending=False)[1:]"
      ],
      "execution_count": null,
      "outputs": []
    },
    {
      "cell_type": "code",
      "metadata": {
        "id": "bxGmZRqwtLBm"
      },
      "source": [
        "results, bin_edges = pd.qcut(df.DURATION, q=4, labels=bin_labels, retbins=True)"
      ],
      "execution_count": null,
      "outputs": []
    },
    {
      "cell_type": "code",
      "metadata": {
        "id": "nBWfYcMXtLBq"
      },
      "source": [
        "bin_edges"
      ],
      "execution_count": null,
      "outputs": []
    },
    {
      "cell_type": "code",
      "metadata": {
        "id": "u4WbOo07tLBv"
      },
      "source": [
        "#Strategy: Reach out to customers whose last contact duration was >= 319 or POUTCOME = success"
      ],
      "execution_count": null,
      "outputs": []
    }
  ]
}